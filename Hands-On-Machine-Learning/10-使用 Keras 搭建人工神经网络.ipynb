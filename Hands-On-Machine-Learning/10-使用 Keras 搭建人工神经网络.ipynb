{
 "cells": [
  {
   "attachments": {},
   "cell_type": "markdown",
   "id": "31c618e7",
   "metadata": {},
   "source": [
    "### 1-（单层）感知机\n",
    "感知器是最简单的人工神经网络结构之一，由 Frank Rosenblatt 发明于 1957 年。它基于一种稍微不同的人工神经元（见图 10-4），阈值逻辑单元（TLU），或称为线性阈值单元（LTU）：输入和输出是数字（而不是二元开/关值），并且每个输入都连接一个权重。TLU 计算其输入的加权和（z = W[1]x[1] + W[2]x[2]+ ... + W[n]x[n] = x^T · W），然后将阶跃函数应用于该和，并输出结果：h[W](x) = step(z)，其中z = x^T · W。<br>\n",
    "<img src='https://hands1ml.apachecn.org/docs/img/8b2cbad5c6f932fabbea3c87de926f8c.png'><br>\n",
    "感知机最常用的阶跃函数是单位阶跃函数（Heaviside step function），见公式 10-1。有时候也使用符号函数sgn。<br>\n",
    "<img src='https://hands1ml.apachecn.org/docs/img/93692150431464017b2aa57680078626.png'><br>\n",
    "单一 TLU 可用于简单的线性二元分类。它计算输入的线性组合，如果结果超过阈值，它输出正类或者输出负类（就像逻辑回归分类或线性 SVM 分类）。<br>\n",
    "感知器只由一层 TLU 组成，每个 TLU 连接到所有输入。（全连接层：当一层的神经元连接着前一层的每个神经元时，该层被称为全连接层，或紧密层。）。感知机的输入来自输入神经元，输入神经元只输出从输入层接收的任何输入。所有的输入神经元位于输入层。此外，通常再添加一个偏置特征（X[0] = 1）：这种偏置特性通常用一种称为偏置神经元的特殊类型的神经元来表示，它总是输出 1。图 10-5 展示了一个具有两个输入和三个输出的感知机，它可以将实例同时分成为三个不同的二元类，这使它成为一个多输出分类器。<br>\n",
    "<img src='https://hands1ml.apachecn.org/docs/img/0c4ef3e739a09224456bd8f4f31b38a6.png'><br>\n",
    "那么感知器是如何训练的呢？Frank Rosenblatt 提出的感知器训练算法在很大程度上受到 Hebb 规则的启发。在 1949 出版的《行为组织》一书中，Donald Hebb 提出，当一个生物神经元经常触发另一个神经元时，这两个神经元之间的联系就会变得更强。这个规则后来被称为 Hebb 规则（或 Hebbian learning）。使用这个规则的变体来训练感知器，该规则考虑了网络所犯的误差。更具体地，感知器一次被馈送一个训练实例，对于每个实例，它进行预测。对于每一个产生错误预测的输出神经元，修正输入的连接权重，以获得正确的预测。公式 10-3 展示了 Hebb 规则。<br>\n",
    "<img src='https://hands1ml.apachecn.org/docs/img/b233f77d24ba573df38c4a3b18fccc83.png'><br>\n",
    "每个输出神经元的决策边界是线性的，因此感知器不能学习复杂的模式（比如 Logistic 回归分类器）。然而，如果训练实例是线性可分的，Rosenblatt 证明该算法将收敛到一个解。这被称为感知器收敛定理。\n"
   ]
  },
  {
   "cell_type": "code",
   "execution_count": 1,
   "id": "b623122a",
   "metadata": {},
   "outputs": [
    {
     "name": "stderr",
     "output_type": "stream",
     "text": [
      "C:\\Users\\86182\\AppData\\Local\\Temp\\ipykernel_15744\\3900204665.py:8: DeprecationWarning: `np.int` is a deprecated alias for the builtin `int`. To silence this warning, use `int` by itself. Doing this will not modify any behavior and is safe. When replacing `np.int`, you may wish to use e.g. `np.int64` or `np.int32` to specify the precision. If you wish to review your current use, check the release note link for additional information.\n",
      "Deprecated in NumPy 1.20; for more details and guidance: https://numpy.org/devdocs/release/1.20.0-notes.html#deprecations\n",
      "  y = (iris.target == 0).astype(np.int)  # Iris setosa?\n"
     ]
    },
    {
     "data": {
      "text/plain": [
       "array([0])"
      ]
     },
     "execution_count": 1,
     "metadata": {},
     "output_type": "execute_result"
    }
   ],
   "source": [
    "# Scikit-Learn 提供了一个Perceptron类，它实现了一个 单 TLU 网络。它可以实现大部分功能，例如用于鸢尾花数据集\n",
    "import numpy as np\n",
    "from sklearn.datasets import load_iris\n",
    "from sklearn.linear_model import Perceptron\n",
    "\n",
    "iris = load_iris()\n",
    "X = iris.data[:, (2, 3)]  # petal length, petal width\n",
    "y = (iris.target == 0).astype(np.int)  # Iris setosa?\n",
    "\n",
    "per_clf = Perceptron()\n",
    "per_clf.fit(X, y)\n",
    "\n",
    "y_pred = per_clf.predict([[2, 0.5]]) \n",
    "y_pred"
   ]
  },
  {
   "attachments": {},
   "cell_type": "markdown",
   "id": "c89f2bda",
   "metadata": {},
   "source": [
    "你可能注意到，感知器学习算法和随机梯度下降很像。事实上，sklearn 的Perceptron类相当于使用具有以下超参数的 SGDClassifier：loss=\"perceptron\"，learning_rate=\"constant\"，eta0=1（学习率），penalty=None（无正则化）。与逻辑回归分类器相反，感知机不输出类概率，而是基于硬阈值进行预测。这是逻辑回归优于感知机的一点。<br>\n",
    "在 1969 年题为“感知机”的专著中，Marvin Minsky 和 Seymour Papert 强调了感知器的许多严重缺陷，特别是它们不能解决一些琐碎的问题（例如，异或（XOR）分类问题）；参见图 10-6 的左侧）。当然，其他的线性分类模型（如 Logistic 回归分类器）也都实现不了，但研究人员期望从感知器中得到更多，他们的失望是很大的，导致许多人彻底放弃了神经网络，而是转向高层次的问题，如逻辑、问题解决和搜索。<br>\n",
    "然而，事实证明，感知机的一些局限性可以通过堆叠多个感知机消除。由此产生的人工神经网络被称为多层感知机（MLP）。特别地，MLP 可以解决 XOR 问题，你可以通过计算图 10-6 右侧所示的 MLP 的输出来验证输入的每一个组合：输入(0, 0)或(1, 1)网络输出 0，输入(0, 1)或(1, 0)它输出 1。除了四个连接的权重不是 1，其它连接都是 1。<br>\n",
    "<img src='https://hands1ml.apachecn.org/docs/img/6930b04814efddf8ea4561e2f337bbb7.png'><br>"
   ]
  },
  {
   "attachments": {},
   "cell_type": "markdown",
   "id": "670a20f1",
   "metadata": {},
   "source": [
    "### 2-多层感知机MLP与反向传播BP\n",
    "MLP 由一个输入层、一个或多个称为隐藏层的 TLU 、一个输出层（见图 10-7）组成。靠近输入层的层，通常被称为浅层，靠近输出层的层通常被称为深层。除了输出层，每一层都有一个偏置神经元，并且全连接到下一层。注意：信号是从输入到输出单向流动的，因此这种架构被称为前馈神经网络（FNN）。当人工神经网络有多个隐含层时，称为深度神经网络（DNN）。深度学习研究的是 DNN 和深层计算模型。但是大多数人用深度学习泛化代替神经网络，即便网络很浅时。<br>\n",
    "<img src='https://hands1ml.apachecn.org/docs/img/523379c16c7d187fad08480319499a81.png'><br>\n",
    "多年来，研究人员努力寻找一种训练 MLP 的方法，但没有成功。但在 1986，David Rumelhart、Geoffrey Hinton、Ronald Williams 发表了一篇突破性的论文，提出了至今仍在使用的反向传播训练算法。总而言之，反向传播算法是使用了高效梯度计算的梯度下降算法（见第 4 章）：只需要两次网络传播（一次向前，一次向后），就可以算出网络误差的、和每个独立模型参数相关的梯度。换句话说，反向传播算法为了减小误差，可以算出每个连接权重和每个偏置项的调整量。当得到梯度之后，就做一次常规的梯度下降，不断重复这个过程，直到网络得到收敛解。<br><br>\n",
    "笔记：自动计算梯度被称为自动微分。有多种自动微分的方法，各有优缺点。反向传播使用的是反向模式自微分。这种方法快而准，当函数有多个变量（连接权重）和多个输出（损失函数）要微分时也能应对。附录 D 介绍了自微分。<br><br>"
   ]
  },
  {
   "attachments": {},
   "cell_type": "markdown",
   "id": "a01e824e",
   "metadata": {},
   "source": [
    "#### 对 反向传播算法（BP） 做详细分解：\n",
    "\n",
    "1-每次处理一个微批次（假如每个批次包含 32 个实例），用训练集多次训练 BP，每次被称为一个周期（epoch）；\n",
    "\n",
    "2-前向传播：每个微批次先进入输入层，输入层再将其发到第一个隐藏层。计算得到该层所有神经元的（微批次的每个实例的）输出。输出接着传到下一层，直到得到输出层的输出。这个过程就是前向传播：就像做预测一样，只是保存了每个中间结果，中间结果要用于反向传播；\n",
    "\n",
    "3-然后计算输出误差（使用损失函数比较目标值和实际输出值，然后返回误差）；\n",
    "\n",
    "4-反向传播：接着，计算每个输出连接对误差的贡献量。这是通过链式法则（就是对多个变量做微分的方法）实现的；然后还是使用链式法则，计算最后一个隐藏层的每个连接对误差的贡献，这个过程不断向后传播，直到到达输入层。\n",
    "\n",
    "5-最后，BP 算法做一次梯度下降步骤，用刚刚计算的误差梯度调整所有连接权重。\n",
    "\n",
    "警告：随机初始化隐藏层的连接权重是很重要的。假如所有的权重和偏置都初始化为 0，则在给定一层的所有神经元都是一样的，BP 算法对这些神经元的调整也会是一样的。换句话，就算每层有几百个神经元，模型的整体表现就像每层只有一个神经元一样，模型会显得笨笨的。如果权重是随机初始化的，就可以打破对称性，训练出不同的神经元。"
   ]
  },
  {
   "attachments": {},
   "cell_type": "markdown",
   "id": "d7dd72a1",
   "metadata": {},
   "source": [
    "#### 激活函数调整\n",
    "为了使 BP 算法正常工作，作者对 MLP 的架构做了一个关键调整：用 Logistic 函数（sigmoid）代替阶跃函数，σ(z) = 1 / (1 + exp(–z))。这是必要的，因为阶跃函数只包含平坦的段，因此没有梯度（即微分恒定为0），而 Logistic 函数处处都有一个定义良好的非零导数，允许梯度下降在每步上取得一些进展。反向传播算法也可以与其他激活函数一起使用，下面就是两个流行的激活函数：\n",
    "\n",
    "双曲正切函数： tanh (z) = 2σ(2z) – 1\n",
    "类似 Logistic 函数，它是 S 形、连续可微的，但是它的输出值范围从-1 到 1（不是 Logistic 函数的 0 到 1），这往往使每层的输出在训练开始时或多或少都变得以 0 为中心，这常常有助于加快收敛速度。\n",
    "\n",
    "ReLU 函数：ReLU(z) = max(0, z)\n",
    "ReLU 函数是连续的，但是在z=0时不可微（斜率突然改变，导致梯度下降在 0 点左右跳跃），ReLU 的变体是当z<0时，z=0。但在实践中，ReLU 效果很好，并且具有计算快速的优点，于是成为了默认激活函数。最重要的是，它没有最大输出值，这有助于减少梯度下降期间的一些问题。\n",
    "\n",
    "这些流行的激活函数及其变体如图 10-8 所示。但是，究竟为什么需要激活函数呢？如果将几个线性变化链式组合起来，得到的还是线性变换。如果层之间不具有非线性，则深层网络和单层网络其实是等同的，这样就不能解决复杂问题。相反的，足够深且有非线性激活函数的 DNN，在理论上可以近似于任意连续函数。<br>\n",
    "<img src='https://hands1ml.apachecn.org/docs/img/35080cf52f5e9599c8ae129bb2b5d295.png'><br>"
   ]
  },
  {
   "attachments": {},
   "cell_type": "markdown",
   "id": "ac6d02e0",
   "metadata": {},
   "source": [
    "#### 分类 MLP\n",
    "二分类：MLP可用于分类，对于二元分类问题，只需要一个使用 Logistic 激活的输出神经元：输出是一个 0 和 1 之间的值，作为正类的估计概率。\n",
    "\n",
    "多标签：MLP 也可以处理多标签二元分类（见第 3 章）。例如，邮件分类系统可以预测一封邮件是垃圾邮件，还是正常邮件，同时预测是紧急，还是非紧急邮件。这时，就需要两个输出神经元，两个都是用 Logistic 函数：第一个输出垃圾邮件的概率，第二个输出紧急的概率。更为一般的讲，需要为每个正类配一个输出神经元。多个输出概率的和不一定非要等于 1。这样模型就可以输出各种标签的组合：非紧急非垃圾邮件、紧急非垃圾邮件、非紧急垃圾邮件、紧急垃圾邮件。\n",
    "\n",
    "多分类：对于多分类问题（比如对于数字图片分类，可以是类 0 到类 9），则每一类都要有一个输出神经元，整个输出层（见图 10-9）要使用 softmax 激活函数。softmax 函数可以保证，每个估计概率位于 0 和 1 之间，并且各个值相加等于 1。<br>\n",
    "<img src='https://hands1ml.apachecn.org/docs/img/28e6d457d56a02086f2ceff72ac9d1e2.png'><br>\n",
    "\n",
    "损失函数：因为要预测概率分布，交叉商损失函数（也称为对数损失，见第 4 章）是不错的选择。\n",
    "\n",
    "表 10-2 概括了分类 MLP 的典型架构。<br>\n",
    "<img src='https://hands1ml.apachecn.org/docs/img/a448b0d1e942484bff4a067c11441c2e.png'><br>"
   ]
  },
  {
   "attachments": {},
   "cell_type": "markdown",
   "id": "3056d474",
   "metadata": {},
   "source": [
    "#### 回归 MLP\n",
    "输出：MLP可以用来回归任务。如果想要预测一个单值（例如根据许多特征预测房价），就只需要一个输出神经元，它的输出值就是预测值。对于多变量回归（即一次预测多个值），则每一维度都要有一个神经元。例如，想要定位一张图片的中心，就要预测 2D 坐标，因此需要两个输出神经元。如果再给对象加个边框，还需要两个值：对象的宽度和高度。\n",
    "\n",
    "激活函数：通常，当用 MLP 做回归时，输出神经元不需要任何激活函数。<br>\n",
    "如果要让输出是正值，则可在输出值使用 ReLU 激活函数。另外，还可以使用 softplus 激活函数，这是 ReLu 的一个平滑化变体：softplus(z) = log(1 + exp(z))。z是负值时，softplus 接近 0，z是正值时，softplus 接近z。最后，如果想让输出落入一定范围内，则可以使用调整过的 Logistic 或双曲正切函数：Logistic 函数用于 0 到 1，双曲正切函数用于 -1 到 1。\n",
    "\n",
    "损失函数：训练中的损失函数一般是均方误差，但如果训练集有许多异常值，则可以使用平均绝对误差。另外，也可以使用 Huber 损失函数，它是前两者的组合。<br>\n",
    "提示：当误差小于阈值δ时（一般为 1），Huber 损失函数是二次的；误差大于阈值时，Huber 损失函数是线性的。相比均方误差，线性部分可以让 Huber 对异常值不那么敏感，二次部分可以让收敛更快，也比均绝对误差更精确。\n",
    "\n",
    "表 10-1 总结了回归 MLP 的典型架构。<br>\n",
    "<img src='https://hands1ml.apachecn.org/docs/img/86424dc7bed03e26a159be77a1f3fc8a.png'><br>\n"
   ]
  },
  {
   "attachments": {},
   "cell_type": "markdown",
   "id": "6c0a5965",
   "metadata": {},
   "source": [
    "### 3-用 Keras 实现 MLP\n",
    "Keras 是一个深度学习高级 API，可以用它轻松地搭建、训练、评估和运行各种神经网络。（将 GitHub 上的 Keras 参考实现称为多后端 Keras）Keras在GitHub 上的开源代码（2015）：https://github.com/keras-team/keras<br>\n",
    "为了进行神经网络计算，必须要有计算后端的支持。目前可选三个流行库：TensorFlow、CNTK 和 Theano。TensorFlow 捆绑了自身的 Keras 实现 —— tf.keras，它只支持 TensorFlow 作为后端，但提供了更多使用的功能（见图 10-10）：例如，tf.keras支持 TensorFlow 的 Data API，加载数据更轻松，预处理数据更高效。<br>\n",
    "自从 2016 年底，出现了 Kera 的其它实现。现在已经可以在 Apache MXNet、苹果 Core ML、JavaScript 或 TypeScript（浏览器）、PlaidML（各种 GPU，不限于 Nvidia）上运行 Keras。<br>\n",
    "<img src='https://hands1ml.apachecn.org/docs/img/d60bca82f536fee2404c573dc5d3bca4.png'><br>\n",
    "排在 Keras 和 TensorFlow 之后最流行的深度学习库，是 Facebook 的 PyTorch。PyTorch 的 API 与 Keras 很像，所以掌握了 Keras，切换到 PyTorch 也不难。得益于易用性和详实的文档（TensorFlow 1 的文档比较一般），PyTorch 在 2018 年广泛流行开来。<br>\n",
    "TensorFlow 和 PyTorch的比较：但是，TensorFlow 2 和 PyTorch 一样简单易用，因为 TensorFlow 使用了 Keras 作为它的高级 API，并简化清理了 TensorFlow 的其它 API。TensorFlow 的文档也改观了，容易检索多了。相似的，PyTorch 的缺点（可移植性差，没有计算图分析）在 PyTorch 1.0 版本中也得到了优化。"
   ]
  },
  {
   "cell_type": "code",
   "execution_count": 1,
   "id": "0cf4c276",
   "metadata": {},
   "outputs": [],
   "source": [
    "import tensorflow as tf"
   ]
  },
  {
   "cell_type": "code",
   "execution_count": 2,
   "id": "d20e8f70",
   "metadata": {},
   "outputs": [
    {
     "data": {
      "text/plain": [
       "('2.12.0', '2.12.0')"
      ]
     },
     "execution_count": 2,
     "metadata": {},
     "output_type": "execute_result"
    }
   ],
   "source": [
    "from tensorflow import keras\n",
    "tf.__version__ , keras.__version__"
   ]
  },
  {
   "attachments": {},
   "cell_type": "markdown",
   "id": "f4cf41e9",
   "metadata": {},
   "source": [
    "keras功能介绍：<br>\n",
    "https://keras.io/api/"
   ]
  },
  {
   "attachments": {},
   "cell_type": "markdown",
   "id": "b4ca1436",
   "metadata": {},
   "source": [
    "使用顺序 API 搭建、训练、评估和使用回归 MLP 做预测，和前面的分类 MLP 很像。区别在于输出层只有一个神经元（因为只想预测一个值而已），也没有使用激活函数，损失函数是均方误差。因为数据集有噪音，我们就是用一个隐藏层，并且神经元也比之前少，以避免过拟合："
   ]
  },
  {
   "attachments": {},
   "cell_type": "markdown",
   "id": "e84a85ac",
   "metadata": {},
   "source": [
    "#### 3-1 使用顺序 API 搭建分类 MLP\n",
    "首先加载数据集。这章用的数据集是 Fashion MNIST，它是 MNIST 一个替代品，格式与 MNIST 完全相同（70000 张灰度图，每张的像素是28 × 28，共有 10 类），图的内容是流行物品，而不是数字，每类中的图片更丰富，识图的挑战性比 MNIST 高得多。"
   ]
  },
  {
   "cell_type": "code",
   "execution_count": 4,
   "id": "ed20a294",
   "metadata": {},
   "outputs": [],
   "source": [
    "# 使用 Keras 加载数据集\n",
    "fashion_mnist = keras.datasets.fashion_mnist\n",
    "(X_train_full, y_train_full), (X_test, y_test) = fashion_mnist.load_data() "
   ]
  },
  {
   "cell_type": "code",
   "execution_count": 5,
   "id": "70c7f91f",
   "metadata": {},
   "outputs": [
    {
     "data": {
      "text/plain": [
       "((60000, 28, 28), dtype('uint8'))"
      ]
     },
     "execution_count": 5,
     "metadata": {},
     "output_type": "execute_result"
    }
   ],
   "source": [
    "# 当使用 Keras 加载 MNIST 或 Fashion MNIST 时，和 Scikit-Learn 加载数据的一个重要区别是，\n",
    "# 每张图片是28 × 28的数组，而不是大小是 784 的 1D 数组。\n",
    "# 另外像素的强度是用整数（0 到 255）表示的，而不是浮点数（0.0 到 255.0）。\n",
    "X_train_full.shape, X_train_full.dtype"
   ]
  },
  {
   "cell_type": "code",
   "execution_count": 6,
   "id": "8b9c8ff2",
   "metadata": {},
   "outputs": [],
   "source": [
    "# 该数据集已经分成了训练集和测试集，但没有验证集。所以要建一个验证集\n",
    "# 另外，因为要用梯度下降训练神经网络，必须要对输入特征进行缩放。简单起见，通过除以255.0将强度范围变为0-1\n",
    "X_valid, X_train = X_train_full[:5000] / 255.0, X_train_full[5000:] / 255.0\n",
    "y_valid, y_train = y_train_full[:5000], y_train_full[5000:] "
   ]
  },
  {
   "cell_type": "code",
   "execution_count": 7,
   "id": "7151e84a",
   "metadata": {},
   "outputs": [
    {
     "data": {
      "text/plain": [
       "'Coat'"
      ]
     },
     "execution_count": 7,
     "metadata": {},
     "output_type": "execute_result"
    }
   ],
   "source": [
    "# 对于 Fashion MNIST，需要分类名的列表：\n",
    "class_names = [\"T-shirt/top\", \"Trouser\", \"Pullover\", \"Dress\", \"Coat\",\n",
    "               \"Sandal\", \"Shirt\", \"Sneaker\", \"Bag\", \"Ankle boot\"] \n",
    "class_names[y_train[0]]"
   ]
  },
  {
   "cell_type": "code",
   "execution_count": 8,
   "id": "2c750075",
   "metadata": {},
   "outputs": [
    {
     "data": {
      "image/png": "[encoded data removed]",
      "text/plain": [
       "<Figure size 640x480 with 1 Axes>"
      ]
     },
     "metadata": {},
     "output_type": "display_data"
    }
   ],
   "source": [
    "# 可视化\n",
    "%matplotlib inline\n",
    "import matplotlib\n",
    "import matplotlib.pyplot as plt\n",
    "some_digit = X_train[0:1]\n",
    "some_digit_image = some_digit.reshape(28, 28)\n",
    "plt.imshow(some_digit_image, cmap = matplotlib.cm.binary, interpolation=\"nearest\")\n",
    "plt.axis(\"off\")\n",
    "plt.show()"
   ]
  },
  {
   "attachments": {},
   "cell_type": "markdown",
   "id": "b21fae20",
   "metadata": {},
   "source": [
    "step1-用顺序 API 创建模型"
   ]
  },
  {
   "cell_type": "code",
   "execution_count": 9,
   "id": "5db6bd0f",
   "metadata": {},
   "outputs": [],
   "source": [
    "# 搭建一个拥有两个隐含层的分类 MLP：\n",
    "\n",
    "# 第一行代码创建了一个顺序 模型，这是 Keras 最简单的模型，是由单层神经元顺序连起来的，被称为顺序 API\n",
    "model = keras.models.Sequential()\n",
    "# 接下来创建了第一层，这是一个Flatten层，它的作用是将每个输入图片转变为 1D 数组：\n",
    "# 如果输入数据是X，该层则计算X.reshape(-1, 1)。该层没有任何参数，只是做一些简单预处理。\n",
    "# 因为是模型的第一层，必须要指明input_shape，input_shape不包括批次大小，只是实例的形状。\n",
    "# 另外，第一层也可以是keras.layers.InputLayer，设置input_shape=[28,28]\n",
    "model.add(keras.layers.Flatten(input_shape=[28, 28]))\n",
    "\n",
    "# 然后，添加了一个有 300 个神经元的紧密层，激活函数是 ReLU。\n",
    "# 每个紧密层只负责自身的权重矩阵，权重矩阵是神经元与输入的所有连接权重。\n",
    "# 紧密层还要负责偏置项（每个神经元都有一个偏置项）向量。当紧密层收到输入数据时，就利用公式 10-2 进行计算\n",
    "model.add(keras.layers.Dense(300, activation=\"relu\"))\n",
    "# 接着再添加第二个紧密层，激活函数仍然是 ReLU\n",
    "model.add(keras.layers.Dense(100, activation=\"relu\"))\n",
    "\n",
    "# 最后，加上一个拥有 10 个神经元的输出层（每有一个类就要有一个神经元），\n",
    "# 激活函数是 softmax（保证输出的概率和等于 1，因为就只有这10个类，具有排他性）\n",
    "model.add(keras.layers.Dense(10, activation=\"softmax\")) "
   ]
  },
  {
   "cell_type": "code",
   "execution_count": 10,
   "id": "c34c5abb",
   "metadata": {},
   "outputs": [
    {
     "name": "stdout",
     "output_type": "stream",
     "text": [
      "Model: \"sequential_1\"\n",
      "_________________________________________________________________\n",
      " Layer (type)                Output Shape              Param #   \n",
      "=================================================================\n",
      " flatten_1 (Flatten)         (None, 784)               0         \n",
      "                                                                 \n",
      " dense_3 (Dense)             (None, 300)               235500    \n",
      "                                                                 \n",
      " dense_4 (Dense)             (None, 100)               30100     \n",
      "                                                                 \n",
      " dense_5 (Dense)             (None, 10)                1010      \n",
      "                                                                 \n",
      "=================================================================\n",
      "Total params: 266,610\n",
      "Trainable params: 266,610\n",
      "Non-trainable params: 0\n",
      "_________________________________________________________________\n"
     ]
    }
   ],
   "source": [
    "# 除了一层一层加层，也可以传递一个层组成的列表：\n",
    "model = keras.models.Sequential([\n",
    "    keras.layers.Flatten(input_shape=[28, 28]),\n",
    "    keras.layers.Dense(300, activation=\"relu\"),\n",
    "    keras.layers.Dense(100, activation=\"relu\"),\n",
    "    keras.layers.Dense(10, activation=\"softmax\")\n",
    "]) \n",
    "\n",
    "# 模型的summary()方法可以展示所有层，包括每个层的名字（名字是自动生成的，除非建层时指定名字），\n",
    "# 输出的形状（None代表批次大小可以是任意值），和参数的数量。\n",
    "# 最后会输出所有参数的数量，包括可训练和不可训练参数。\n",
    "model.summary()"
   ]
  },
  {
   "attachments": {},
   "cell_type": "markdown",
   "id": "42bbee92",
   "metadata": {},
   "source": [
    "紧密层通常有许多参数。比如，第一个隐含层有784 × 300个连接权重，再加上 300 个偏置项，总共有 235500 个参数。这么多参数可以让模型具有足够的灵活度以拟合训练数据，但也意味着可能有过拟合的风险，特别是当训练数据不足时。后面再讨论这个问题。"
   ]
  },
  {
   "cell_type": "code",
   "execution_count": 11,
   "id": "abe1ec04",
   "metadata": {},
   "outputs": [
    {
     "data": {
      "text/plain": [
       "True"
      ]
     },
     "execution_count": 11,
     "metadata": {},
     "output_type": "execute_result"
    }
   ],
   "source": [
    "# 使用属性，获取神经层很容易，可以通过索引或名称获取对应的层：\n",
    "model.layers\n",
    "\n",
    "hidden1 = model.layers[1]\n",
    "hidden1.name\n",
    "\n",
    "model.get_layer('dense_3') is hidden1"
   ]
  },
  {
   "cell_type": "code",
   "execution_count": 12,
   "id": "170fca2d",
   "metadata": {},
   "outputs": [],
   "source": [
    "# 可以用get_weights()和set_weights()方法，获取神经层的所有参数。对于紧密层，参数包括连接权重和偏置项：\n",
    "hidden1 = model.layers[1]\n",
    "weights, biases = hidden1.get_weights()"
   ]
  },
  {
   "attachments": {},
   "cell_type": "markdown",
   "id": "f26204c8",
   "metadata": {},
   "source": [
    "紧密层是随机初始化连接权重的（为了避免对称性），偏置项则是 0。如果想使用不同的初始化方法，可以在创建层时设置kernel_initializer（核是连接矩阵的另一个名字）或bias_initializer。第 11 章会进一步讨论初始化器，初始化器的完整列表见https://keras.io/api/layers/initializers/\n",
    "\n",
    "笔记：权重矩阵的形状取决于输入的数量。这就是为什么要在创建Sequential模型的第一层时指定input_shape。但是，如果不指定形状也没关系：Keras 会在真正搭建模型前一直等待，直到弄清输入的形状（输入真实数据时，或调用build()方法时）。在搭建模型之前，神经层是没有权重的，也干不了什么事（比如打印模型概要或保存模型）。所以如果在创建模型时知道输入的形状，最好就设置好。\n",
    "\n",
    "step2-编译模型"
   ]
  },
  {
   "cell_type": "code",
   "execution_count": 13,
   "id": "57ed8c16",
   "metadata": {},
   "outputs": [],
   "source": [
    "# 创建好模型之后，必须调用compile()方法，设置损失函数和优化器。\n",
    "# 另外，还可以指定训练和评估过程中要计算的额外指标的列表：\n",
    "model.compile(loss=\"sparse_categorical_crossentropy\",\n",
    "              optimizer=\"sgd\",\n",
    "              metrics=[\"accuracy\"]) "
   ]
  },
  {
   "attachments": {},
   "cell_type": "markdown",
   "id": "7de17264",
   "metadata": {},
   "source": [
    "解释下这段代码。首先，因为使用的是稀疏标签（sparse, 每个实例只有一个目标类的索引，在这个例子中，目标类索引是 0 到 9），且就是这十个类，没有其它的，所以使用的是\"sparse_categorical_crossentropy\"损失函数。<br>\n",
    "如果每个实例的每个类都有一个目标概率（比如独热向量，[0., 0., 0., 1., 0., 0., 0., 0., 0., 0.]，来表示类 3），则就要使用\"categorical_crossentropy\"损失函数。提示：如果要将稀疏标签转变为独热向量标签，可以使用函数keras.utils.to_categorical()。还以使用函数np.argmax()，axis=1。<br>\n",
    "如果是做二元分类（有一个或多个二元标签），输出层就得使用\"sigmoid\"激活函数，损失函数则变为\"binary_crossentropy\"。\n",
    "\n",
    "对于优化器，\"sgd\"表示使用随机梯度下降训练模型。换句话说，Keras 会进行反向传播算法。<br>\n",
    "使用SGD时，调整学习率很重要，必须要手动设置好，optimizer=keras.optimizers.SGD(lr=???)。optimizer=\"sgd\"不同，它的学习率默认为lr=0.01。\n",
    "\n",
    "最后，因为是个分类器，最好在训练和评估时测量\"accuracy\"。"
   ]
  },
  {
   "attachments": {},
   "cell_type": "markdown",
   "id": "e40f07a4",
   "metadata": {},
   "source": [
    "step3-训练和评估模型\n",
    "\n",
    "这里，向fit()方法传递了输入特征(X_train)和目标类(y_train)，还要要训练的周期数（不设置的话，默认的周期数是 1，肯定是不能收敛到一个好的解的）。另外还传递了验证集（它是可选的）。Keras 会在每个周期结束后，测量损失和指标，这样就可以监测模型的表现。如果模型在训练集上的表现优于在验证集上的表现，可能模型在训练集上就过拟合了（或者就是存在 bug，比如训练集和验证集的数据不匹配）。<br>\n",
    "提示：除了通过参数validation_data传递验证集，也可以通过参数validation_split从训练集分割出一部分作为验证集。比如，validation_split=0.1可以让 Keras 使用训练数据（打散前）的末尾 10% 作为验证集。\n",
    "\n",
    "类权重:如果训练集非常倾斜，一些类过渡表达，一些欠表达，在调用fit()时最好设置class_weight参数，可以加大欠表达类的权重，减小过渡表达类的权重。Keras 在计算损失时，会使用这些权重。<br>\n",
    "样本权重:如果每个实例都要加权重，可以设置sample_weight（这个参数优先于class_weight）。如果一些实例的标签是通过专家添加的，其它实例是通过众包平台添加的，最好加大前者的权重，此时给每个实例都加权重就很有必要。通过在validation_data元组中，给验证集加上样本权重作为第三项，还可以给验证集添加样本权重。\n",
    "\n",
    "仅需如此，神经网络就训练好了。训练中的每个周期，Keras 会展示到目前为止一共处理了多少个实例（还带有进度条），每个样本的平均训练时间，以及在训练集和验证集上的损失和准确率（和其它指标）。可以看到，损失是一直下降的，这是一个好现象。"
   ]
  },
  {
   "cell_type": "code",
   "execution_count": null,
   "id": "80ea434e",
   "metadata": {},
   "outputs": [],
   "source": [
    "# fit(): 输入特征(X_train),目标类(y_train), 训练的周期数, 验证集\n",
    "history = model.fit(X_train, y_train, epochs=30, validation_data=(X_valid, y_valid))"
   ]
  },
  {
   "attachments": {},
   "cell_type": "markdown",
   "id": "051d155e",
   "metadata": {},
   "source": [
    "fit()方法会返回History对象，包含：训练参数（history.params）、周期列表（history.epoch）、以及最重要的包含训练集和验证集的每个周期后的损失和指标的字典（history.history）。如果用这个字典创建一个 pandas 的DataFrame，然后使用方法plot()，就可以画出学习曲线，见图 10-12："
   ]
  },
  {
   "cell_type": "code",
   "execution_count": 15,
   "id": "fae6e858",
   "metadata": {},
   "outputs": [
    {
     "data": {
      "text/plain": [
       "{'verbose': 1, 'epochs': 30, 'steps': 1719}"
      ]
     },
     "execution_count": 15,
     "metadata": {},
     "output_type": "execute_result"
    }
   ],
   "source": [
    "history.params"
   ]
  },
  {
   "cell_type": "code",
   "execution_count": 16,
   "id": "d38ceb87",
   "metadata": {},
   "outputs": [
    {
     "data": {
      "image/png": "[encoded data removed]",
      "text/plain": [
       "<Figure size 800x500 with 1 Axes>"
      ]
     },
     "metadata": {},
     "output_type": "display_data"
    }
   ],
   "source": [
    "import pandas as pd\n",
    "import matplotlib.pyplot as plt\n",
    "\n",
    "pd.DataFrame(history.history).plot(figsize=(8, 5))\n",
    "plt.grid(True)\n",
    "plt.gca().set_ylim(0, 1) # set the vertical range to [0-1]\n",
    "plt.show() "
   ]
  },
  {
   "attachments": {},
   "cell_type": "markdown",
   "id": "f747f41b",
   "metadata": {},
   "source": [
    "评估模型——可视化分析：\n",
    "\n",
    "可以看到，训练准确率和验证准确率稳步提高，训练损失和验证损失持续下降。另外，验证曲线和训练曲线靠的很近，意味着没有什么过拟合。<br>\n",
    "提示：在绘制训练曲线时，应该向左移动半个周期。在这个例子中，在训练一开始时，模型在验证集上的表现优于训练集。但实际情况是，验证误差是在每个周期结束后算出来的，而训练误差在每个周期期间，用流动平均误差算出来的。所以训练曲线（译者注，图中橙色的那条）实际应该向左移动半个周期。移动之后，就可以发现在训练开始时，训练和验证曲线几乎是完美重合起来的。<br>\n",
    "模型收敛判定：通常只要训练时间足够长，训练集的表现就能超越验证集。从图中可以看到，验证损失仍然在下降，模型收敛的还不好，所以训练应该持续下去。只需要再次调用方法fit()即可，因为 Keras 可以从断点处继续。"
   ]
  },
  {
   "attachments": {},
   "cell_type": "markdown",
   "id": "2847a7b0",
   "metadata": {},
   "source": [
    "step4-调节超参数、测试模型：\n",
    "\n",
    "如果仍然对模型的表现不满意，就需要调节超参数了。首先是学习率。如果调节学习率没有帮助，就尝试换一个优化器（记得调节任何超参数之后都需要重新调节学习率）。如果效果仍然不好，就调节模型自身的超参数，比如层数、每层的神经元数、每个隐藏层的激活函数。还可以调节其它超参数，比如批次大小（通过fit()的参数batch_size，默认是 32）。<br>\n",
    "当对验证准确率达到满意之后，就可以用测试集评估泛化误差。只需使用evaluate()方法（evaluate()方法包含参数batch_size和sample_weight）"
   ]
  },
  {
   "cell_type": "code",
   "execution_count": 17,
   "id": "c497783b",
   "metadata": {},
   "outputs": [
    {
     "name": "stdout",
     "output_type": "stream",
     "text": [
      "313/313 [==============================] - 1s 2ms/step - loss: 71.0906 - accuracy: 0.8388\n"
     ]
    },
    {
     "data": {
      "text/plain": [
       "[71.09058380126953, 0.8388000130653381]"
      ]
     },
     "execution_count": 17,
     "metadata": {},
     "output_type": "execute_result"
    }
   ],
   "source": [
    "model.evaluate(X_test, y_test)"
   ]
  },
  {
   "attachments": {},
   "cell_type": "markdown",
   "id": "a8c6a934",
   "metadata": {},
   "source": [
    "正如第 2 章所见，测试集的表现通常比验证集上低一点，这是因为超参数根据验证集而不是测试集调节的（但是在这个例子中，我们没有调节过超参数，所以准确率下降纯粹是运气比较差而已）。一定不要在测试集上调节超参数，否则会影响泛化误差。"
   ]
  },
  {
   "attachments": {},
   "cell_type": "markdown",
   "id": "7e19a83c",
   "metadata": {},
   "source": [
    "step5-使用模型进行预测\n",
    "\n",
    "接下来，就可以用模型的predict()方法对新实例做预测了。因为并没有新实例，所以就用测试集的前 5 个实例来演示：<br>\n",
    "可以看到，模型会对每个实例的每个类（从 0 到 9）都给出一个概率。比如，对于第一张图，模型预测第 9 类（短靴）的概率是 96%，第 5 类（凉鞋）的概率是 3%，第 7 类（运动鞋）的概率是 1%，剩下的类的概率都是 0。换句话说，模型预测第一张图是鞋，最有可能是短靴，也有可能是凉鞋和运动鞋。如果只关心概率最高的类（即使概率不高），可以使用方法predict_classes()："
   ]
  },
  {
   "cell_type": "code",
   "execution_count": 20,
   "id": "460cec27",
   "metadata": {},
   "outputs": [
    {
     "name": "stdout",
     "output_type": "stream",
     "text": [
      "1/1 [==============================] - 0s 23ms/step\n"
     ]
    },
    {
     "data": {
      "text/plain": [
       "array([[0., 0., 0., 0., 0., 0., 0., 0., 0., 1.],\n",
       "       [0., 0., 1., 0., 0., 0., 0., 0., 0., 0.],\n",
       "       [0., 1., 0., 0., 0., 0., 0., 0., 0., 0.],\n",
       "       [0., 1., 0., 0., 0., 0., 0., 0., 0., 0.],\n",
       "       [0., 0., 0., 0., 0., 0., 1., 0., 0., 0.]], dtype=float32)"
      ]
     },
     "execution_count": 20,
     "metadata": {},
     "output_type": "execute_result"
    }
   ],
   "source": [
    "X_new = X_test[:5]\n",
    "y_proba = model.predict(X_new)\n",
    "y_proba.round(2)"
   ]
  },
  {
   "cell_type": "code",
   "execution_count": 21,
   "id": "004bcc12",
   "metadata": {},
   "outputs": [
    {
     "data": {
      "text/plain": [
       "(array([9, 2, 1, 1, 6], dtype=int64),\n",
       " array(['Ankle boot', 'Pullover', 'Trouser', 'Trouser', 'Shirt'],\n",
       "       dtype='<U11'))"
      ]
     },
     "execution_count": 21,
     "metadata": {},
     "output_type": "execute_result"
    }
   ],
   "source": [
    "y_pred = np.argmax(y_proba, axis=1)\n",
    "y_pred, np.array(class_names)[y_pred]"
   ]
  },
  {
   "cell_type": "code",
   "execution_count": 22,
   "id": "6488a2d4",
   "metadata": {},
   "outputs": [
    {
     "data": {
      "text/plain": [
       "array([9, 2, 1, 1, 6], dtype=uint8)"
      ]
     },
     "execution_count": 22,
     "metadata": {},
     "output_type": "execute_result"
    }
   ],
   "source": [
    "# 判断结果\n",
    "y_new = y_test[:5]\n",
    "y_new"
   ]
  },
  {
   "attachments": {},
   "cell_type": "markdown",
   "id": "db993c0f",
   "metadata": {},
   "source": [
    "#### 3-2 使用顺序 API 搭建回归 MLP\n",
    "接下来使用回归神经网络来处理加州房价问题。简便起见，使用 Scikit-Learn 的fetch_california_housing()函数来加载数据。这个数据集比第 2 章所用的数据集简单，因为它只包括数值特征（没有ocean_proximity），也不包括缺失值。"
   ]
  },
  {
   "cell_type": "code",
   "execution_count": 1,
   "id": "575ee692",
   "metadata": {},
   "outputs": [],
   "source": [
    "import tensorflow as tf\n",
    "from tensorflow import keras\n",
    "\n",
    "from sklearn.datasets import load_diabetes\n",
    "from sklearn.model_selection import train_test_split\n",
    "from sklearn.preprocessing import StandardScaler\n",
    "\n",
    "diabetes = load_diabetes()\n",
    "\n",
    "# 加载好数据之后，将数据集分割成训练集、验证集和测试集\n",
    "X_train_full, X_test, y_train_full, y_test = train_test_split(\n",
    "    diabetes.data, diabetes.target)\n",
    "X_train, X_valid, y_train, y_valid = train_test_split(\n",
    "    X_train_full, y_train_full)\n",
    "\n",
    "# 并做特征缩放/标准化\n",
    "scaler = StandardScaler()\n",
    "X_train = scaler.fit_transform(X_train)\n",
    "X_valid = scaler.transform(X_valid)\n",
    "X_test = scaler.transform(X_test) "
   ]
  },
  {
   "attachments": {},
   "cell_type": "markdown",
   "id": "0779de45",
   "metadata": {},
   "source": [
    "使用顺序 API 搭建、训练、评估和使用回归 MLP 做预测，和前面的分类 MLP 很像。区别在于:<br>\n",
    "——输出层只有一个神经元（因为只想预测一个值而已），也没有使用激活函数，损失函数是均方误差。<br>\n",
    "——因为数据集有噪音，我们就用一个隐藏层，并且神经元也比之前少，以避免过拟合："
   ]
  },
  {
   "cell_type": "code",
   "execution_count": 30,
   "id": "25e8810a",
   "metadata": {},
   "outputs": [
    {
     "name": "stdout",
     "output_type": "stream",
     "text": [
      "Epoch 1/30\n",
      "8/8 [==============================] - 0s 19ms/step - loss: 146.3809 - val_loss: 154.9860\n",
      "Epoch 2/30\n",
      "8/8 [==============================] - 0s 6ms/step - loss: 144.4647 - val_loss: 152.8592\n",
      "Epoch 3/30\n",
      "8/8 [==============================] - 0s 6ms/step - loss: 141.8734 - val_loss: 149.4807\n",
      "Epoch 4/30\n",
      "8/8 [==============================] - 0s 6ms/step - loss: 137.4042 - val_loss: 143.0980\n",
      "Epoch 5/30\n",
      "8/8 [==============================] - 0s 6ms/step - loss: 128.6492 - val_loss: 130.7925\n",
      "Epoch 6/30\n",
      "8/8 [==============================] - 0s 5ms/step - loss: 113.9396 - val_loss: 113.6819\n",
      "Epoch 7/30\n",
      "8/8 [==============================] - 0s 6ms/step - loss: 94.5197 - val_loss: 88.1630\n",
      "Epoch 8/30\n",
      "8/8 [==============================] - 0s 6ms/step - loss: 70.2262 - val_loss: 60.3116\n",
      "Epoch 9/30\n",
      "8/8 [==============================] - 0s 5ms/step - loss: 55.3535 - val_loss: 48.3424\n",
      "Epoch 10/30\n",
      "8/8 [==============================] - 0s 8ms/step - loss: 50.8118 - val_loss: 44.4270\n",
      "Epoch 11/30\n",
      "8/8 [==============================] - 0s 5ms/step - loss: 47.5958 - val_loss: 43.4439\n",
      "Epoch 12/30\n",
      "8/8 [==============================] - 0s 6ms/step - loss: 45.5389 - val_loss: 43.2728\n",
      "Epoch 13/30\n",
      "8/8 [==============================] - 0s 7ms/step - loss: 44.6152 - val_loss: 43.8877\n",
      "Epoch 14/30\n",
      "8/8 [==============================] - 0s 7ms/step - loss: 44.3689 - val_loss: 43.6672\n",
      "Epoch 15/30\n",
      "8/8 [==============================] - 0s 7ms/step - loss: 43.6371 - val_loss: 44.4335\n",
      "Epoch 16/30\n",
      "8/8 [==============================] - 0s 5ms/step - loss: 43.3828 - val_loss: 44.8575\n",
      "Epoch 17/30\n",
      "8/8 [==============================] - 0s 6ms/step - loss: 43.2500 - val_loss: 44.1664\n",
      "Epoch 18/30\n",
      "8/8 [==============================] - 0s 5ms/step - loss: 43.2639 - val_loss: 43.7653\n",
      "Epoch 19/30\n",
      "8/8 [==============================] - 0s 5ms/step - loss: 42.7415 - val_loss: 44.1048\n",
      "Epoch 20/30\n",
      "8/8 [==============================] - 0s 5ms/step - loss: 42.9947 - val_loss: 43.8917\n",
      "Epoch 21/30\n",
      "8/8 [==============================] - 0s 6ms/step - loss: 42.6014 - val_loss: 43.9159\n",
      "Epoch 22/30\n",
      "8/8 [==============================] - 0s 5ms/step - loss: 42.2026 - val_loss: 44.0112\n",
      "Epoch 23/30\n",
      "8/8 [==============================] - 0s 6ms/step - loss: 42.3787 - val_loss: 44.0822\n",
      "Epoch 24/30\n",
      "8/8 [==============================] - 0s 6ms/step - loss: 42.0150 - val_loss: 43.3469\n",
      "Epoch 25/30\n",
      "8/8 [==============================] - 0s 5ms/step - loss: 41.8865 - val_loss: 43.8923\n",
      "Epoch 26/30\n",
      "8/8 [==============================] - 0s 5ms/step - loss: 42.1417 - val_loss: 43.2046\n",
      "Epoch 27/30\n",
      "8/8 [==============================] - 0s 5ms/step - loss: 42.2824 - val_loss: 43.5633\n",
      "Epoch 28/30\n",
      "8/8 [==============================] - 0s 5ms/step - loss: 41.9346 - val_loss: 45.0036\n",
      "Epoch 29/30\n",
      "8/8 [==============================] - 0s 5ms/step - loss: 41.9206 - val_loss: 44.2253\n",
      "Epoch 30/30\n",
      "8/8 [==============================] - 0s 5ms/step - loss: 41.7288 - val_loss: 45.0062\n"
     ]
    }
   ],
   "source": [
    "model_seq = keras.models.Sequential([\n",
    "    keras.layers.Flatten(input_shape=[X_train.shape[1]]),\n",
    "    keras.layers.Dense(30, activation=\"relu\"),\n",
    "    keras.layers.Dense(1)\n",
    "])\n",
    "\n",
    "model_seq.compile(loss=\"huber\", optimizer=keras.optimizers.SGD(learning_rate=0.05))\n",
    "\n",
    "history = model_seq.fit(X_train, y_train, epochs=30,\n",
    "                    validation_data=(X_valid, y_valid))"
   ]
  },
  {
   "cell_type": "code",
   "execution_count": 31,
   "id": "7389f1a8",
   "metadata": {},
   "outputs": [
    {
     "data": {
      "image/png": "[encoded data removed]",
      "text/plain": [
       "<Figure size 800x500 with 1 Axes>"
      ]
     },
     "metadata": {},
     "output_type": "display_data"
    }
   ],
   "source": [
    "import pandas as pd\n",
    "import matplotlib.pyplot as plt\n",
    "\n",
    "pd.DataFrame(history.history).plot(figsize=(8, 5))\n",
    "plt.grid(True)\n",
    "plt.show() "
   ]
  },
  {
   "cell_type": "code",
   "execution_count": 32,
   "id": "83c308fb",
   "metadata": {},
   "outputs": [
    {
     "name": "stdout",
     "output_type": "stream",
     "text": [
      "4/4 [==============================] - 0s 2ms/step - loss: 46.4115\n"
     ]
    }
   ],
   "source": [
    "mse_test = model_seq.evaluate(X_test, y_test)"
   ]
  },
  {
   "cell_type": "code",
   "execution_count": 33,
   "id": "73f6f358",
   "metadata": {},
   "outputs": [
    {
     "name": "stdout",
     "output_type": "stream",
     "text": [
      "1/1 [==============================] - 0s 48ms/step\n"
     ]
    },
    {
     "data": {
      "text/plain": [
       "(array([[126.57764 ],\n",
       "        [214.94495 ],\n",
       "        [ 62.284122],\n",
       "        [188.37648 ],\n",
       "        [217.50137 ],\n",
       "        [105.27481 ]], dtype=float32),\n",
       " array([ 85., 296.,  89., 288., 180., 162.]))"
      ]
     },
     "execution_count": 33,
     "metadata": {},
     "output_type": "execute_result"
    }
   ],
   "source": [
    "X_new = X_test[:6] # pretend these are new instances\n",
    "y_pred = model_seq.predict(X_new) \n",
    "y_pred, y_test[:6]"
   ]
  },
  {
   "attachments": {},
   "cell_type": "markdown",
   "id": "591edde5",
   "metadata": {},
   "source": [
    "可以看到，使用顺序 API 是很方便的。但是，尽管Sequential十分常见，但用它搭建复杂拓扑形态或多输入多输出的神经网络还是不多。所以，Keras 还提供了函数式 API。"
   ]
  },
  {
   "attachments": {},
   "cell_type": "markdown",
   "id": "698130cb",
   "metadata": {},
   "source": [
    "#### 3-3使用函数式 API 搭建复杂模型（Wide & Deep 架构）\n",
    "用函数式 API 可以搭建任意架构。这些架构可被统称为 Wide & Deep 架构。<br>\n",
    "Wide & Deep 是一个非序列化的神经网络模型。这个架构是 Heng-Tze Cheng 在 2016 年在论文中提出来的。这个模型可以将全部或部分输入与输出层连起来，见图 10-14。这样，就可以既学到深层模式（使用深度路径）和简单规则（使用短路径）。作为对比，常规 MLP 会强制所有数据流经所有层，因此数据中的简单模式在多次变换后会被扭曲。<br>\n",
    "<img src='https://hands1ml.apachecn.org/docs/img/ae4176d0ecf0ecc5988b0df6135bbf41.png'><br>\n",
    "我们来搭建一个这样的神经网络，来解决加州房价问题（搭建好模型之后，重复之前的步骤：编译模型、训练、评估、做预测。）："
   ]
  },
  {
   "cell_type": "code",
   "execution_count": 6,
   "id": "96f13b22",
   "metadata": {},
   "outputs": [],
   "source": [
    "# 首先创建一个Input对象。包括模型输入的形状shape和数据类型dtype。模型可能会有多种输入。\n",
    "input_ = keras.layers.Input(shape=X_train.shape[1:])\n",
    "# 然后，创建一个有 30 个神经元的紧密层，激活函数是 ReLU。创建好之后，将其作为函数，直接将输入传给它。\n",
    "# 这就是函数式 API 的得名原因。这里只是告诉 Keras 如何将层连起来，并没有导入实际数据。\n",
    "hidden1 = keras.layers.Dense(30, activation=\"relu\")(input_)\n",
    "# 然后创建第二个隐藏层，还是将其作为函数使用，输入时第一个隐藏层的输出\n",
    "hidden2 = keras.layers.Dense(30, activation=\"relu\")(hidden1)\n",
    "# 接着，创建一个连接层Concatenate，也是作为函数使用，将输入和第二个隐藏层的输出连起来。\n",
    "concat = keras.layers.Concatenate()([input_, hidden2])\n",
    "# 然后创建输出层，只有一个神经元，没有激活函数，将连接层的输出作为输入。\n",
    "output = keras.layers.Dense(1)(concat)\n",
    "\n",
    "# 最后，创建一个 Keras 的Model，指明输入和输出。\n",
    "model = keras.Model(inputs=[input_], outputs=[output]) "
   ]
  },
  {
   "attachments": {},
   "cell_type": "markdown",
   "id": "0ee15e17",
   "metadata": {},
   "source": [
    "多输入——但是如果你想将部分特征发送给 wide 路径，将部分特征（可以有重叠）发送给 deep 路径，该怎么做呢？答案是可以使用多输入。例如，假设向 wide 路径发送 5 个特征（特征 0 到 4），向 deep 路径发送 6 个特征（特征 2 到 7）<br>\n",
    "<img src='https://hands1ml.apachecn.org/docs/img/591beaf8e9895b8d896c927527c110d7.png'><br>"
   ]
  },
  {
   "cell_type": "code",
   "execution_count": 7,
   "id": "f11e0077",
   "metadata": {},
   "outputs": [],
   "source": [
    "a = 10\n",
    "b = 5\n",
    "\n",
    "input_A = keras.layers.Input(shape=[a], name=\"wide_input\")\n",
    "input_B = keras.layers.Input(shape=[b], name=\"deep_input\")\n",
    "\n",
    "hidden1 = keras.layers.Dense(30, activation=\"relu\")(input_B)\n",
    "hidden2 = keras.layers.Dense(30, activation=\"relu\")(hidden1)\n",
    "\n",
    "concat = keras.layers.concatenate([input_A, hidden2])\n",
    "output = keras.layers.Dense(1, name=\"output\")(concat)\n",
    "\n",
    "model = keras.Model(inputs=[input_A, input_B], outputs=[output]) "
   ]
  },
  {
   "cell_type": "code",
   "execution_count": 8,
   "id": "117c4936",
   "metadata": {},
   "outputs": [],
   "source": [
    "X_train_A, X_train_B = X_train[:, :a], X_train[:, 10-b:]\n",
    "X_valid_A, X_valid_B = X_valid[:, :a], X_valid[:, 10-b:]\n",
    "X_test_A, X_test_B = X_test[:, :a], X_test[:, 10-b:]\n",
    "X_new_A, X_new_B = X_test_A[:3], X_test_B[:3]"
   ]
  },
  {
   "cell_type": "code",
   "execution_count": 9,
   "id": "11ab9105",
   "metadata": {},
   "outputs": [
    {
     "name": "stdout",
     "output_type": "stream",
     "text": [
      "Epoch 1/30\n",
      "8/8 [==============================] - 1s 28ms/step - loss: 146.2618 - val_loss: 156.0320\n",
      "Epoch 2/30\n",
      "8/8 [==============================] - 0s 5ms/step - loss: 146.0567 - val_loss: 155.8372\n",
      "Epoch 3/30\n",
      "8/8 [==============================] - 0s 6ms/step - loss: 145.8507 - val_loss: 155.6363\n",
      "Epoch 4/30\n",
      "8/8 [==============================] - 0s 6ms/step - loss: 145.6321 - val_loss: 155.4184\n",
      "Epoch 5/30\n",
      "8/8 [==============================] - 0s 6ms/step - loss: 145.3900 - val_loss: 155.1715\n",
      "Epoch 6/30\n",
      "8/8 [==============================] - 0s 6ms/step - loss: 145.1103 - val_loss: 154.8805\n",
      "Epoch 7/30\n",
      "8/8 [==============================] - 0s 5ms/step - loss: 144.7748 - val_loss: 154.5244\n",
      "Epoch 8/30\n",
      "8/8 [==============================] - 0s 5ms/step - loss: 144.3616 - val_loss: 154.0771\n",
      "Epoch 9/30\n",
      "8/8 [==============================] - 0s 5ms/step - loss: 143.8303 - val_loss: 153.4911\n",
      "Epoch 10/30\n",
      "8/8 [==============================] - 0s 5ms/step - loss: 143.1288 - val_loss: 152.6961\n",
      "Epoch 11/30\n",
      "8/8 [==============================] - 0s 5ms/step - loss: 142.1596 - val_loss: 151.5744\n",
      "Epoch 12/30\n",
      "8/8 [==============================] - 0s 5ms/step - loss: 140.7659 - val_loss: 149.9153\n",
      "Epoch 13/30\n",
      "8/8 [==============================] - 0s 5ms/step - loss: 138.6605 - val_loss: 147.3366\n",
      "Epoch 14/30\n",
      "8/8 [==============================] - 0s 5ms/step - loss: 135.2960 - val_loss: 143.0835\n",
      "Epoch 15/30\n",
      "8/8 [==============================] - 0s 5ms/step - loss: 129.5168 - val_loss: 135.3520\n",
      "Epoch 16/30\n",
      "8/8 [==============================] - 0s 5ms/step - loss: 118.5065 - val_loss: 120.1695\n",
      "Epoch 17/30\n",
      "8/8 [==============================] - 0s 5ms/step - loss: 98.6705 - val_loss: 95.1046\n",
      "Epoch 18/30\n",
      "8/8 [==============================] - 0s 5ms/step - loss: 72.7219 - val_loss: 68.3944\n",
      "Epoch 19/30\n",
      "8/8 [==============================] - 0s 5ms/step - loss: 60.2876 - val_loss: 60.9286\n",
      "Epoch 20/30\n",
      "8/8 [==============================] - 0s 5ms/step - loss: 57.1514 - val_loss: 58.6833\n",
      "Epoch 21/30\n",
      "8/8 [==============================] - 0s 5ms/step - loss: 54.6540 - val_loss: 58.3056\n",
      "Epoch 22/30\n",
      "8/8 [==============================] - 0s 5ms/step - loss: 52.8877 - val_loss: 56.3924\n",
      "Epoch 23/30\n",
      "8/8 [==============================] - 0s 5ms/step - loss: 51.0817 - val_loss: 56.0572\n",
      "Epoch 24/30\n",
      "8/8 [==============================] - 0s 5ms/step - loss: 50.5345 - val_loss: 55.5631\n",
      "Epoch 25/30\n",
      "8/8 [==============================] - 0s 5ms/step - loss: 49.3684 - val_loss: 54.9085\n",
      "Epoch 26/30\n",
      "8/8 [==============================] - 0s 5ms/step - loss: 49.0184 - val_loss: 55.5463\n",
      "Epoch 27/30\n",
      "8/8 [==============================] - 0s 5ms/step - loss: 48.6514 - val_loss: 54.1706\n",
      "Epoch 28/30\n",
      "8/8 [==============================] - 0s 6ms/step - loss: 48.9299 - val_loss: 54.0026\n",
      "Epoch 29/30\n",
      "8/8 [==============================] - 0s 5ms/step - loss: 47.9579 - val_loss: 54.8346\n",
      "Epoch 30/30\n",
      "8/8 [==============================] - 0s 5ms/step - loss: 47.7878 - val_loss: 54.0323\n"
     ]
    }
   ],
   "source": [
    "# 但当调用fit()时，不是传入矩阵X_train，而是传入一对矩阵(X_train_A, X_train_B)：每个输入一个矩阵。\n",
    "\n",
    "model.compile(loss=\"huber\", optimizer=keras.optimizers.SGD(learning_rate=0.01))\n",
    "\n",
    "history = model.fit((X_train_A, X_train_B), y_train, epochs=30,\n",
    "                    validation_data=((X_valid_A, X_valid_B), y_valid))"
   ]
  },
  {
   "cell_type": "code",
   "execution_count": 10,
   "id": "db65e67b",
   "metadata": {},
   "outputs": [
    {
     "name": "stdout",
     "output_type": "stream",
     "text": [
      "4/4 [==============================] - 0s 2ms/step - loss: 49.6316\n",
      "1/1 [==============================] - 0s 48ms/step\n"
     ]
    },
    {
     "data": {
      "text/plain": [
       "(array([[158.21498],\n",
       "        [177.44557],\n",
       "        [ 86.24278]], dtype=float32),\n",
       " array([ 85., 296.,  89.]))"
      ]
     },
     "execution_count": 10,
     "metadata": {},
     "output_type": "execute_result"
    }
   ],
   "source": [
    "# 同理调用evaluate()或predict()时，X_valid、X_test、X_new也要变化。\n",
    "\n",
    "huber_test = model.evaluate((X_test_A, X_test_B), y_test)\n",
    "y_pred = model.predict((X_new_A, X_new_B)) \n",
    "y_pred, y_test[:3]"
   ]
  },
  {
   "attachments": {},
   "cell_type": "markdown",
   "id": "305b6673",
   "metadata": {},
   "source": [
    "多输出——有以下要使用多输出的场景：\n",
    "\n",
    "多任务叠加。例如，你想定位和分类图片中的主要物体。这既是一个回归任务（找到目标中心的坐标、宽度和高度）和分类任务。\n",
    "\n",
    "多个独立的任务。相似的，对于相同的数据，你可能有多个独立的任务。当然可以每个任务训练一个神经网络，但在多数情况下，同时对所有任务训练一个神经网络，每个任务一个输出，后者的效果更好。这是因为神经网络可以在不同任务间学习有用的数据特征。例如，在人脸的多任务分类时，你可以用一个输出做人物表情的分类（微笑惊讶等等），用另一个输出判断是否戴着眼镜。\n",
    "\n",
    "另一种情况是作为一种正则的方法（即，一种降低过拟合和提高泛化能力的训练约束）。例如，你想在神经网络中加入一些辅助输出（见图 10-16），好让神经网络的一部分依靠自身就能学到一些东西。<br>\n",
    "<img src='https://hands1ml.apachecn.org/docs/img/b0edd14407d966c873df644d3df97d67.png'><br>"
   ]
  },
  {
   "cell_type": "code",
   "execution_count": 11,
   "id": "23910435",
   "metadata": {},
   "outputs": [],
   "source": [
    "# 添加额外的输出很容易：只需要将输出和相关的层连起来、将输出写入输出列表就行。 \n",
    "# 例如，下面的代码搭建的就是图 10-16 的架构：\n",
    "\n",
    "# output 层前面都一样\n",
    "a = 10\n",
    "b = 5\n",
    "\n",
    "input_A = keras.layers.Input(shape=[a], name=\"wide_input\")\n",
    "input_B = keras.layers.Input(shape=[b], name=\"deep_input\")\n",
    "\n",
    "hidden1 = keras.layers.Dense(30, activation=\"relu\")(input_B)\n",
    "hidden2 = keras.layers.Dense(30, activation=\"relu\")(hidden1)\n",
    "\n",
    "concat = keras.layers.concatenate([input_A, hidden2])\n",
    "\n",
    "output = keras.layers.Dense(1, name=\"main_output\")(concat)\n",
    "aux_output = keras.layers.Dense(1, name=\"aux_output\")(hidden2)\n",
    "model = keras.Model(inputs=[input_A, input_B], outputs=[output, aux_output]) "
   ]
  },
  {
   "cell_type": "code",
   "execution_count": 12,
   "id": "6dfa7d5c",
   "metadata": {},
   "outputs": [],
   "source": [
    "# 每个输出都要有自己的损失函数。因此在编译模型时，需要传入损失函数列表\n",
    "# （如果只传入一个损失函数，Keras 会认为所有输出是同一个损失函数）。\n",
    "# Keras 默认计算所有损失，将其求和得到最终损失用于训练。主输出比辅助输出更值得关心，所以要提高它的权重：\n",
    "\n",
    "model.compile(loss=[\"huber\", \"mae\"], loss_weights=[0.95, 0.05], optimizer=keras.optimizers.SGD(learning_rate=0.1)) "
   ]
  },
  {
   "cell_type": "code",
   "execution_count": 13,
   "id": "b59e0ca7",
   "metadata": {},
   "outputs": [
    {
     "name": "stdout",
     "output_type": "stream",
     "text": [
      "Epoch 1/30\n",
      "8/8 [==============================] - 1s 26ms/step - loss: 144.8017 - main_output_loss: 144.7125 - aux_output_loss: 146.4956 - val_loss: 151.3127 - val_main_output_loss: 151.0667 - val_aux_output_loss: 155.9866\n",
      "Epoch 2/30\n",
      "8/8 [==============================] - 0s 6ms/step - loss: 112.0217 - main_output_loss: 110.3734 - aux_output_loss: 143.3393 - val_loss: 64.8347 - val_main_output_loss: 60.8536 - val_aux_output_loss: 140.4761\n",
      "Epoch 3/30\n",
      "8/8 [==============================] - 0s 5ms/step - loss: 75.9028 - main_output_loss: 73.4897 - aux_output_loss: 121.7513 - val_loss: 59.9988 - val_main_output_loss: 57.2473 - val_aux_output_loss: 112.2758\n",
      "Epoch 4/30\n",
      "8/8 [==============================] - 0s 6ms/step - loss: 61.1005 - main_output_loss: 59.2785 - aux_output_loss: 95.7188 - val_loss: 70.9648 - val_main_output_loss: 69.4360 - val_aux_output_loss: 100.0122\n",
      "Epoch 5/30\n",
      "8/8 [==============================] - 0s 6ms/step - loss: 68.6879 - main_output_loss: 68.1133 - aux_output_loss: 79.6062 - val_loss: 57.2906 - val_main_output_loss: 56.3998 - val_aux_output_loss: 74.2155\n",
      "Epoch 6/30\n",
      "8/8 [==============================] - 0s 5ms/step - loss: 65.1446 - main_output_loss: 65.0727 - aux_output_loss: 66.5103 - val_loss: 63.4173 - val_main_output_loss: 62.9577 - val_aux_output_loss: 72.1488\n",
      "Epoch 7/30\n",
      "8/8 [==============================] - 0s 6ms/step - loss: 55.8913 - main_output_loss: 55.8049 - aux_output_loss: 57.5316 - val_loss: 67.0447 - val_main_output_loss: 66.9911 - val_aux_output_loss: 68.0624\n",
      "Epoch 8/30\n",
      "8/8 [==============================] - 0s 5ms/step - loss: 58.6124 - main_output_loss: 58.8193 - aux_output_loss: 54.6801 - val_loss: 112.2312 - val_main_output_loss: 113.2714 - val_aux_output_loss: 92.4684\n",
      "Epoch 9/30\n",
      "8/8 [==============================] - 0s 6ms/step - loss: 58.5705 - main_output_loss: 58.6907 - aux_output_loss: 56.2868 - val_loss: 59.1736 - val_main_output_loss: 59.3675 - val_aux_output_loss: 55.4884\n",
      "Epoch 10/30\n",
      "8/8 [==============================] - 0s 6ms/step - loss: 53.9077 - main_output_loss: 54.0342 - aux_output_loss: 51.5044 - val_loss: 54.7231 - val_main_output_loss: 54.6685 - val_aux_output_loss: 55.7611\n",
      "Epoch 11/30\n",
      "8/8 [==============================] - 0s 6ms/step - loss: 67.3872 - main_output_loss: 67.8725 - aux_output_loss: 58.1656 - val_loss: 66.5657 - val_main_output_loss: 66.5579 - val_aux_output_loss: 66.7147\n",
      "Epoch 12/30\n",
      "8/8 [==============================] - 0s 6ms/step - loss: 51.0427 - main_output_loss: 51.0733 - aux_output_loss: 50.4596 - val_loss: 79.7830 - val_main_output_loss: 80.1346 - val_aux_output_loss: 73.1025\n",
      "Epoch 13/30\n",
      "8/8 [==============================] - 0s 6ms/step - loss: 63.5486 - main_output_loss: 63.8679 - aux_output_loss: 57.4815 - val_loss: 55.2516 - val_main_output_loss: 55.1921 - val_aux_output_loss: 56.3825\n",
      "Epoch 14/30\n",
      "8/8 [==============================] - 0s 5ms/step - loss: 60.4599 - main_output_loss: 60.7604 - aux_output_loss: 54.7507 - val_loss: 61.2906 - val_main_output_loss: 61.1706 - val_aux_output_loss: 63.5716\n",
      "Epoch 15/30\n",
      "8/8 [==============================] - 0s 5ms/step - loss: 55.4044 - main_output_loss: 55.4779 - aux_output_loss: 54.0089 - val_loss: 53.1606 - val_main_output_loss: 53.0748 - val_aux_output_loss: 54.7919\n",
      "Epoch 16/30\n",
      "8/8 [==============================] - 0s 6ms/step - loss: 58.7047 - main_output_loss: 58.8284 - aux_output_loss: 56.3546 - val_loss: 58.8300 - val_main_output_loss: 58.8573 - val_aux_output_loss: 58.3117\n",
      "Epoch 17/30\n",
      "8/8 [==============================] - 0s 5ms/step - loss: 61.5447 - main_output_loss: 61.8197 - aux_output_loss: 56.3188 - val_loss: 57.4490 - val_main_output_loss: 57.7201 - val_aux_output_loss: 52.2989\n",
      "Epoch 18/30\n",
      "8/8 [==============================] - 0s 5ms/step - loss: 71.9777 - main_output_loss: 72.4211 - aux_output_loss: 63.5547 - val_loss: 52.3609 - val_main_output_loss: 52.2150 - val_aux_output_loss: 55.1334\n",
      "Epoch 19/30\n",
      "8/8 [==============================] - 0s 5ms/step - loss: 55.2422 - main_output_loss: 55.2641 - aux_output_loss: 54.8263 - val_loss: 70.8117 - val_main_output_loss: 70.8669 - val_aux_output_loss: 69.7630\n",
      "Epoch 20/30\n",
      "8/8 [==============================] - 0s 6ms/step - loss: 59.7686 - main_output_loss: 59.9646 - aux_output_loss: 56.0438 - val_loss: 51.6197 - val_main_output_loss: 51.4562 - val_aux_output_loss: 54.7262\n",
      "Epoch 21/30\n",
      "8/8 [==============================] - 0s 6ms/step - loss: 56.3852 - main_output_loss: 56.5086 - aux_output_loss: 54.0400 - val_loss: 60.4252 - val_main_output_loss: 60.3941 - val_aux_output_loss: 61.0165\n",
      "Epoch 22/30\n",
      "8/8 [==============================] - 0s 6ms/step - loss: 55.3409 - main_output_loss: 55.3929 - aux_output_loss: 54.3536 - val_loss: 55.1148 - val_main_output_loss: 54.9566 - val_aux_output_loss: 58.1216\n",
      "Epoch 23/30\n",
      "8/8 [==============================] - 0s 6ms/step - loss: 60.4522 - main_output_loss: 60.6280 - aux_output_loss: 57.1120 - val_loss: 70.8609 - val_main_output_loss: 70.8944 - val_aux_output_loss: 70.2251\n",
      "Epoch 24/30\n",
      "8/8 [==============================] - 0s 6ms/step - loss: 51.9268 - main_output_loss: 51.9724 - aux_output_loss: 51.0601 - val_loss: 58.1887 - val_main_output_loss: 58.2424 - val_aux_output_loss: 57.1682\n",
      "Epoch 25/30\n",
      "8/8 [==============================] - 0s 6ms/step - loss: 54.4582 - main_output_loss: 54.5219 - aux_output_loss: 53.2487 - val_loss: 58.8006 - val_main_output_loss: 58.7522 - val_aux_output_loss: 59.7214\n",
      "Epoch 26/30\n",
      "8/8 [==============================] - 0s 6ms/step - loss: 51.8919 - main_output_loss: 51.9154 - aux_output_loss: 51.4451 - val_loss: 54.6878 - val_main_output_loss: 54.7087 - val_aux_output_loss: 54.2905\n",
      "Epoch 27/30\n",
      "8/8 [==============================] - 0s 6ms/step - loss: 47.9685 - main_output_loss: 47.9765 - aux_output_loss: 47.8177 - val_loss: 55.8785 - val_main_output_loss: 55.7488 - val_aux_output_loss: 58.3443\n",
      "Epoch 28/30\n",
      "8/8 [==============================] - 0s 6ms/step - loss: 53.7294 - main_output_loss: 53.8192 - aux_output_loss: 52.0239 - val_loss: 56.9846 - val_main_output_loss: 56.9454 - val_aux_output_loss: 57.7289\n",
      "Epoch 29/30\n",
      "8/8 [==============================] - 0s 6ms/step - loss: 57.9861 - main_output_loss: 58.1602 - aux_output_loss: 54.6788 - val_loss: 78.1790 - val_main_output_loss: 78.3680 - val_aux_output_loss: 74.5886\n",
      "Epoch 30/30\n",
      "8/8 [==============================] - 0s 6ms/step - loss: 56.2113 - main_output_loss: 56.2677 - aux_output_loss: 55.1408 - val_loss: 69.1362 - val_main_output_loss: 69.1689 - val_aux_output_loss: 68.5160\n"
     ]
    }
   ],
   "source": [
    "# 此时若要训练模型，必须给每个输出贴上标签。在这个例子中，主输出和辅输出预测的是同一件事，因此标签相同。\n",
    "# 传入数据必须是(y_train, y_train)（y_valid和y_test也是如此）：\n",
    "\n",
    "history = model.fit(\n",
    "    [X_train_A, X_train_B], [y_train, y_train], epochs=30,\n",
    "    validation_data=([X_valid_A, X_valid_B], [y_valid, y_valid])) "
   ]
  },
  {
   "cell_type": "code",
   "execution_count": 14,
   "id": "f759f366",
   "metadata": {},
   "outputs": [
    {
     "data": {
      "image/png": "[encoded data removed]",
      "text/plain": [
       "<Figure size 800x500 with 1 Axes>"
      ]
     },
     "metadata": {},
     "output_type": "display_data"
    }
   ],
   "source": [
    "import pandas as pd\n",
    "import matplotlib.pyplot as plt\n",
    "\n",
    "pd.DataFrame(history.history).plot(figsize=(8, 5))\n",
    "plt.grid(True)\n",
    "plt.show() "
   ]
  },
  {
   "cell_type": "code",
   "execution_count": 15,
   "id": "5a472dd0",
   "metadata": {},
   "outputs": [
    {
     "name": "stdout",
     "output_type": "stream",
     "text": [
      "4/4 [==============================] - 0s 2ms/step - loss: 67.7186 - main_output_loss: 67.8447 - aux_output_loss: 65.3226\n"
     ]
    }
   ],
   "source": [
    "# 当评估模型时，Keras 会返回总损失和各个损失值：\n",
    "total_loss, main_loss, aux_loss = model.evaluate(\n",
    "    [X_test_A, X_test_B], [y_test, y_test]) "
   ]
  },
  {
   "cell_type": "code",
   "execution_count": 16,
   "id": "aa46b56b",
   "metadata": {},
   "outputs": [
    {
     "name": "stdout",
     "output_type": "stream",
     "text": [
      "1/1 [==============================] - 0s 58ms/step\n"
     ]
    },
    {
     "data": {
      "text/plain": [
       "(array([[116.54927],\n",
       "        [121.75242],\n",
       "        [ 62.90509]], dtype=float32),\n",
       " array([[123.77389],\n",
       "        [118.20635],\n",
       "        [ 68.98972]], dtype=float32),\n",
       " array([ 85., 296.,  89.]))"
      ]
     },
     "execution_count": 16,
     "metadata": {},
     "output_type": "execute_result"
    }
   ],
   "source": [
    "# 相似的，方法predict()会返回每个输出的预测值：\n",
    "y_pred_main, y_pred_aux = model.predict([X_new_A, X_new_B]) \n",
    "y_pred_main, y_pred_aux, y_test[:3]"
   ]
  },
  {
   "attachments": {},
   "cell_type": "markdown",
   "id": "0c37f193",
   "metadata": {},
   "source": [
    "#### 3-4使用子类化 API 搭建动态模型\n",
    "顺序 API 和函数式 API 都是声明式的：只有声明创建每个层以及层的连接方式，才能给模型加载数据以进行训练和推断。<br>\n",
    "这种方式有其优点：模型可以方便的进行保存、克隆和分享；模型架构得以展示，便于分析；框架可以推断数据形状和类型，便于及时发现错误（加载数据之前就能发现错误）。调试也很容易，因为模型是层的静态图。<br>\n",
    "但是缺点也很明显：模型是静态的。一些模型包含循环、可变数据形状、条件分支，和其它的动态特点。对于这些情况，或者你只是喜欢命令式编程，不妨使用子类化 API。\n",
    "\n",
    "对Model类划分子类，在构造器中创建需要的层，调用call()进行计算。例如，创建一个下面的WideAndDeepModel类的实例，就可以创建与前面函数式 API 例子的同样模型，同样可以进行编译、评估、预测："
   ]
  },
  {
   "cell_type": "code",
   "execution_count": 17,
   "id": "ab441266",
   "metadata": {},
   "outputs": [],
   "source": [
    "class WideAndDeepModel(keras.Model):\n",
    "    def __init__(self, units=30, activation=\"relu\", **kwargs):\n",
    "        super().__init__(**kwargs) # handles standard args (e.g., name)\n",
    "        self.hidden1 = keras.layers.Dense(units, activation=activation)\n",
    "        self.hidden2 = keras.layers.Dense(units, activation=activation)\n",
    "        self.main_output = keras.layers.Dense(1)\n",
    "        self.aux_output = keras.layers.Dense(1)\n",
    "\n",
    "    def call(self, inputs):\n",
    "        input_A, input_B = inputs\n",
    "        hidden1 = self.hidden1(input_B)\n",
    "        hidden2 = self.hidden2(hidden1)\n",
    "        concat = keras.layers.concatenate([input_A, hidden2])\n",
    "        main_output = self.main_output(concat)\n",
    "        aux_output = self.aux_output(hidden2)\n",
    "        return main_output, aux_output\n",
    "\n",
    "model_class = WideAndDeepModel() "
   ]
  },
  {
   "attachments": {},
   "cell_type": "markdown",
   "id": "11e93f86",
   "metadata": {},
   "source": [
    "这个例子和函数式 API 很像，除了不用创建输入；只需要在call()使用参数input，另外的不同是将层的创建和使用分割了。最大的差别是，在call()方法中，你可以做任意想做的事：for循环、if语句、低级的 TensorFlow 操作，可以尽情发挥想象（见第 12 章）！子类化 API 可以让研究者试验各种新创意。\n",
    "\n",
    "然而代价也是有的：模型架构隐藏在call()方法中，所以 Keras 不能对其检查；不能保存或克隆；当调用summary()时，得到的只是层的列表，没有层的连接信息。另外，Keras 不能提前检查数据类型和形状，所以很容易犯错。所以除非真的需要灵活性，还是使用顺序 API 或函数式 API 吧。"
   ]
  },
  {
   "cell_type": "code",
   "execution_count": 18,
   "id": "a09406b8",
   "metadata": {},
   "outputs": [],
   "source": [
    "model_class.compile(loss=[\"huber\", \"mae\"], loss_weights=[0.95, 0.05], optimizer=keras.optimizers.SGD(learning_rate=0.1)) "
   ]
  },
  {
   "cell_type": "code",
   "execution_count": null,
   "id": "ae31d5ff",
   "metadata": {},
   "outputs": [],
   "source": [
    "history = model_class.fit(\n",
    "    [X_train_A, X_train_B], [y_train, y_train], epochs=30,\n",
    "    validation_data=([X_valid_A, X_valid_B], [y_valid, y_valid])) "
   ]
  },
  {
   "attachments": {},
   "cell_type": "markdown",
   "id": "8fa7d064",
   "metadata": {},
   "source": [
    "#### 3-5保存和恢复模型\n",
    "使用顺序 API 或函数式 API 时，保存训练好的 Keras 模型和训练一样简单：<br>\n",
    "(警告：这种加载模型的方法只对顺序 API 或函数式 API 有用，不适用于子类化 API。对于后者，可以用save_weights()和load_weights()保存参数，其它的就得手动保存恢复了。)"
   ]
  },
  {
   "cell_type": "code",
   "execution_count": 20,
   "id": "cf1ceccf",
   "metadata": {},
   "outputs": [],
   "source": [
    "'''model = keras.layers.Sequential([...]) # or keras.Model([...])\n",
    "model.compile([...])\n",
    "model.fit([...])'''\n",
    "\n",
    "model.save(\"my_keras_model.h5\") "
   ]
  },
  {
   "attachments": {},
   "cell_type": "markdown",
   "id": "2b8ac225",
   "metadata": {},
   "source": [
    "Keras 使用 HDF5 格式保存模型架构（包括每层的超参数）和每层的所有参数值（连接权重和偏置项）。还保存了优化器（包括超参数和状态）。<br>\n",
    "通常用脚本训练和保存模型，一个或更多的脚本（或 web 服务）来加载模型和做预测。加载模型很简单："
   ]
  },
  {
   "cell_type": "code",
   "execution_count": 21,
   "id": "713fd1b0",
   "metadata": {},
   "outputs": [
    {
     "name": "stderr",
     "output_type": "stream",
     "text": [
      "C:\\Users\\86182\\AppData\\Local\\Temp\\ipykernel_17840\\85276383.py:3: H5pyDeprecationWarning: The default file mode will change to 'r' (read-only) in h5py 3.0. To suppress this warning, pass the mode you need to h5py.File(), or set the global default h5.get_config().default_file_mode, or set the environment variable H5PY_DEFAULT_READONLY=1. Available modes are: 'r', 'r+', 'w', 'w-'/'x', 'a'. See the docs for details.\n",
      "  model_h5 = h5py.File(\"my_keras_model.h5\")\n"
     ]
    }
   ],
   "source": [
    "import h5py\n",
    "\n",
    "model_h5 = h5py.File(\"my_keras_model.h5\")\n",
    "loaded_model = keras.models.load_model(model_h5) "
   ]
  },
  {
   "cell_type": "code",
   "execution_count": 22,
   "id": "dfa33a6e",
   "metadata": {},
   "outputs": [
    {
     "name": "stdout",
     "output_type": "stream",
     "text": [
      "['model_weights', 'optimizer_weights'] \n",
      "\n"
     ]
    }
   ],
   "source": [
    "print([key for key in model_h5.keys()], \"\\n\")  "
   ]
  },
  {
   "cell_type": "code",
   "execution_count": 53,
   "id": "baf58327",
   "metadata": {},
   "outputs": [
    {
     "name": "stdout",
     "output_type": "stream",
     "text": [
      "['aux_output', 'concatenate_2', 'deep_input', 'dense_7', 'dense_8', 'main_output', 'top_level_model_weights', 'wide_input'] \n",
      "\n",
      "['bias:0', 'kernel:0'] \n",
      "\n",
      "<HDF5 group \"/model_weights/aux_output/aux_output\" (2 members)> \n",
      "\n"
     ]
    }
   ],
   "source": [
    "mw = model_h5[\"model_weights\"]\n",
    "print([key for key in mw.keys()], \"\\n\")  \n",
    "print([key for key in mw['aux_output']['aux_output'].keys()], \"\\n\") "
   ]
  },
  {
   "cell_type": "code",
   "execution_count": 54,
   "id": "32e60bbb",
   "metadata": {},
   "outputs": [
    {
     "name": "stdout",
     "output_type": "stream",
     "text": [
      "[0.36385414] \n",
      "\n",
      "[[ 5.6218237e-02]\n",
      " [ 6.0909653e-01]\n",
      " [ 4.1992679e-01]\n",
      " [-2.3869459e-01]\n",
      " [ 6.8262465e-02]\n",
      " [ 2.5933307e-02]\n",
      " [-7.8848056e-02]\n",
      " [ 1.8442298e-01]\n",
      " [ 1.4241171e+00]\n",
      " [ 1.4430622e+00]\n",
      " [ 1.5947288e+00]\n",
      " [ 1.7553724e-01]\n",
      " [-4.8300561e-02]\n",
      " [ 2.9030817e+00]\n",
      " [ 8.0228485e-02]\n",
      " [ 1.5065575e-01]\n",
      " [-4.0460568e-02]\n",
      " [ 1.3917487e+00]\n",
      " [-4.2093232e-01]\n",
      " [ 4.7097045e-01]\n",
      " [ 8.5892759e-02]\n",
      " [-3.4432927e-01]\n",
      " [ 2.0859296e+00]\n",
      " [ 9.0897214e-01]\n",
      " [ 1.4416026e+00]\n",
      " [ 3.2738011e+00]\n",
      " [ 5.2971684e-04]\n",
      " [ 5.2757031e-01]\n",
      " [-8.6567163e-02]\n",
      " [ 1.7165482e-01]] \n",
      "\n"
     ]
    }
   ],
   "source": [
    "print(mw['aux_output']['aux_output'][\"bias:0\"][:], \"\\n\")\n",
    "print(mw['aux_output']['aux_output'][\"kernel:0\"][:], \"\\n\") "
   ]
  },
  {
   "attachments": {},
   "cell_type": "markdown",
   "id": "cfc30e88",
   "metadata": {},
   "source": [
    "保存检查点\n",
    "\n",
    "但如果训练要持续数个小时呢？在大数据集上训练，训练时间长很普遍。此时，不仅要在训练结束时保存模型检查点，在一定时间间隔内也要保存，以免电脑宕机造成损失。但是如何告诉fit()保存检查点呢？使用调回。<br>\n",
    "fit()方法接受参数callbacks，可以让用户指明一个 Keras 列表，让 Keras 在训练开始和结束、每个周期开始和结束、甚至是每个批次的前后调用保存数据。例如，ModelCheckpoint可以在每个时间间隔保存检查点，默认是每个周期结束之后："
   ]
  },
  {
   "cell_type": "code",
   "execution_count": null,
   "id": "37086d22",
   "metadata": {},
   "outputs": [],
   "source": [
    "[...] # 搭建编译模型\n",
    "checkpoint_cb = keras.callbacks.ModelCheckpoint(\"my_keras_model_cb.h5\")\n",
    "history = model_seq.fit(X_train, y_train, epochs=10, callbacks=[checkpoint_cb])"
   ]
  },
  {
   "attachments": {},
   "cell_type": "markdown",
   "id": "e19a1501",
   "metadata": {},
   "source": [
    "早停\n",
    "\n",
    "另外，如果训练时使用了验证集，可以在创建检查点时设定save_best_only=True，只有当模型在验证集上取得最优值时才保存模型。这么做可以不必担心训练时间过长和训练集过拟合：只需加载训练好的模型，就能保证是在验证集上表现最好的模型。下面的代码演示了早停（见第 4 章）："
   ]
  },
  {
   "cell_type": "code",
   "execution_count": null,
   "id": "6355a3e8",
   "metadata": {},
   "outputs": [],
   "source": [
    "checkpoint_cbsb = keras.callbacks.ModelCheckpoint(\"my_keras_model_cbsb.h5\",\n",
    "                                                save_best_only=True)\n",
    "history = model_seq.fit(X_train, y_train, epochs=10,\n",
    "                    validation_data=(X_valid, y_valid),\n",
    "                    callbacks=[checkpoint_cbsb])"
   ]
  },
  {
   "cell_type": "code",
   "execution_count": 47,
   "id": "9a2e1e39",
   "metadata": {},
   "outputs": [
    {
     "name": "stderr",
     "output_type": "stream",
     "text": [
      "C:\\Users\\86182\\AppData\\Local\\Temp\\ipykernel_17840\\2627437323.py:2: H5pyDeprecationWarning: The default file mode will change to 'r' (read-only) in h5py 3.0. To suppress this warning, pass the mode you need to h5py.File(), or set the global default h5.get_config().default_file_mode, or set the environment variable H5PY_DEFAULT_READONLY=1. Available modes are: 'r', 'r+', 'w', 'w-'/'x', 'a'. See the docs for details.\n",
      "  model__cbsb = h5py.File(\"my_keras_model_cbsb.h5\")\n"
     ]
    }
   ],
   "source": [
    "# roll back to best model\n",
    "model__cbsb = h5py.File(\"my_keras_model_cbsb.h5\")\n",
    "loaded_model = keras.models.load_model(model__cbsb) "
   ]
  },
  {
   "attachments": {},
   "cell_type": "markdown",
   "id": "d9bf5727",
   "metadata": {},
   "source": [
    "另一种实现早停的方法是使用EarlyStopping调回。当检测到经过几个周期（周期数由参数patience确定），验证集表现没有提升时，就会中断训练，还能自动回到最优模型。可以将保存检查点（避免宕机）和早停（避免浪费时间和资源）结合起来："
   ]
  },
  {
   "cell_type": "code",
   "execution_count": 107,
   "id": "d913be0b",
   "metadata": {},
   "outputs": [
    {
     "name": "stdout",
     "output_type": "stream",
     "text": [
      "Epoch 1/100\n",
      "8/8 [==============================] - 0s 68ms/step - loss: 36.4092 - val_loss: 43.9921\n",
      "Epoch 2/100\n",
      "8/8 [==============================] - 0s 14ms/step - loss: 35.1873 - val_loss: 46.0760\n",
      "Epoch 3/100\n",
      "8/8 [==============================] - 0s 7ms/step - loss: 35.6342 - val_loss: 43.4661\n",
      "Epoch 4/100\n",
      "8/8 [==============================] - 0s 8ms/step - loss: 36.7631 - val_loss: 44.2207\n",
      "Epoch 5/100\n",
      "8/8 [==============================] - 0s 7ms/step - loss: 35.8596 - val_loss: 44.2668\n",
      "Epoch 6/100\n",
      "8/8 [==============================] - 0s 7ms/step - loss: 35.8428 - val_loss: 43.5298\n",
      "Epoch 7/100\n",
      "8/8 [==============================] - 0s 8ms/step - loss: 36.4645 - val_loss: 43.9182\n",
      "Epoch 8/100\n",
      "8/8 [==============================] - 0s 9ms/step - loss: 35.4965 - val_loss: 45.7238\n",
      "Epoch 9/100\n",
      "8/8 [==============================] - 0s 7ms/step - loss: 36.3777 - val_loss: 44.3256\n",
      "Epoch 10/100\n",
      "8/8 [==============================] - 0s 8ms/step - loss: 35.5406 - val_loss: 43.5434\n",
      "Epoch 11/100\n",
      "8/8 [==============================] - 0s 9ms/step - loss: 35.4695 - val_loss: 44.3421\n",
      "Epoch 12/100\n",
      "8/8 [==============================] - 0s 9ms/step - loss: 35.7129 - val_loss: 44.1365\n",
      "Epoch 13/100\n",
      "8/8 [==============================] - 0s 8ms/step - loss: 35.5274 - val_loss: 44.3050\n"
     ]
    }
   ],
   "source": [
    "early_stopping_cb = keras.callbacks.EarlyStopping(patience=10,\n",
    "                                                  restore_best_weights=True)\n",
    "history = model_seq.fit(X_train, y_train, epochs=100,\n",
    "                    validation_data=(X_valid, y_valid),\n",
    "                    callbacks=[checkpoint_cb, early_stopping_cb]) "
   ]
  },
  {
   "attachments": {},
   "cell_type": "markdown",
   "id": "d7dc0fc5",
   "metadata": {},
   "source": [
    "周期数可以设的很大，因为准确率没有提升时，训练就会自动停止。此时，就没有必要恢复最优模型，因为EarlyStopping调回一直在跟踪最优权重，训练结束时能自动恢复。<br>\n",
    "提示：包keras.callbacks中还有其它可用的调回。<br>\n",
    "如果还想有其它操控，还可以编写自定义的调回。下面的例子展示了一个可以展示验证集损失和训练集损失比例的自定义（检测过拟合）调回："
   ]
  },
  {
   "cell_type": "code",
   "execution_count": null,
   "id": "65c91d34",
   "metadata": {},
   "outputs": [],
   "source": [
    "class PrintValTrainRatioCallback(keras.callbacks.Callback):\n",
    "    def on_epoch_end(self, epoch, logs):\n",
    "        print(\"\\nval/train: {:.2f}\".format(logs[\"val_loss\"] / logs[\"loss\"])) \n",
    "\n",
    "val_train = PrintValTrainRatioCallback()\n",
    "history = model_seq.fit(X_train, y_train, epochs=10,\n",
    "                    validation_data=(X_valid, y_valid),\n",
    "                    callbacks=[val_train]) "
   ]
  },
  {
   "attachments": {},
   "cell_type": "markdown",
   "id": "c6f973d7",
   "metadata": {},
   "source": [
    "类似的，还可以实现on_train_begin()、on_train_end()、on_epoch_begin()、on_epoch_end()、on_batch_begin()、和on_batch_end()。如果需要的话，在评估和预测时也可以使用调回（例如为了调试）。对于评估，可以实现on_test_begin()、on_test_end()、on_test_batch_begin()或on_test_batch_end()（通过evaluate()调用）；对于预测，可以实现on_predict_begin()、on_predict_end()、on_predict_batch_begin()或on_predict_batch_end()（通过predict()调用）。"
   ]
  },
  {
   "attachments": {},
   "cell_type": "markdown",
   "id": "eac3b7ec",
   "metadata": {},
   "source": [
    "### 4-使用 TensorBoard 进行可视化\n",
    "TensorBoard 是一个强大的交互可视化工具，使用它可以查看训练过程中的学习曲线、比较每次运行的学习曲线、可视化计算图、分析训练数据、查看模型生成的图片、可视化投射到 3D 的多维数据，等等。TensorBoard 是 TensorFlow 自带的。\n",
    "\n",
    "要使用 TensorBoard，必须修改程序，将要可视化的数据输出为二进制的日志文件event files。每份二进制数据称为摘要summary，TensorBoard 服务器会监测日志文件目录，自动加载更新并可视化：这样就能看到实时数据（稍有延迟），比如训练时的学习曲线。通常，将 TensorBoard 服务器指向根日志目录，程序的日志写入到它的子目录，这样一个 TensorBoard 服务就能可视化并比较多次运行的数据，而不会将其搞混。"
   ]
  },
  {
   "cell_type": "code",
   "execution_count": 69,
   "id": "4ae1921b",
   "metadata": {},
   "outputs": [],
   "source": [
    "# 我们先定义 TensorBoard 的根日志目录，还有一些根据当前日期生成子目录的小函数。\n",
    "# 你可能还想在目录名中加上其它信息，比如超参数的值，方便知道查询的内容：\n",
    "\n",
    "import os\n",
    "# TensorBoard 的根日志目录\n",
    "root_logdir = os.path.join(os.curdir, \"my_logs\")\n",
    "\n",
    "# 根据当前日期生成子目录的小函数\n",
    "def get_run_logdir():\n",
    "    import time\n",
    "    run_id = time.strftime(\"run_%Y_%M_%D-%H_%M_%S\")\n",
    "    return os.path.join(root_logdir, run_id)\n",
    "\n",
    "run_logdir = get_run_logdir() # e.g., './my_logs/run_2019_06_07-15_15_22' "
   ]
  },
  {
   "cell_type": "code",
   "execution_count": 96,
   "id": "6755726c",
   "metadata": {},
   "outputs": [],
   "source": [
    "# %load_ext tensorboard\n",
    "%reload_ext tensorboard"
   ]
  },
  {
   "cell_type": "code",
   "execution_count": null,
   "id": "24427ad0",
   "metadata": {},
   "outputs": [],
   "source": [
    "%tensorboard --logdir=<'new_logs'>"
   ]
  },
  {
   "cell_type": "code",
   "execution_count": 98,
   "id": "648d0b7f",
   "metadata": {},
   "outputs": [
    {
     "ename": "FailedPreconditionError",
     "evalue": "{{function_node __wrapped__CreateSummaryFileWriter_device_/job:localhost/replica:0/task:0/device:CPU:0}} . is not a directory [Op:CreateSummaryFileWriter]",
     "output_type": "error",
     "traceback": [
      "\u001b[1;31m---------------------------------------------------------------------------\u001b[0m",
      "\u001b[1;31mFailedPreconditionError\u001b[0m                   Traceback (most recent call last)",
      "Cell \u001b[1;32mIn[98], line 5\u001b[0m\n\u001b[0;32m      2\u001b[0m [\u001b[39m.\u001b[39m\u001b[39m.\u001b[39m\u001b[39m.\u001b[39m] \u001b[39m# 搭建编译模型\u001b[39;00m\n\u001b[0;32m      3\u001b[0m tensorboard_cb \u001b[39m=\u001b[39m keras\u001b[39m.\u001b[39mcallbacks\u001b[39m.\u001b[39mTensorBoard(log_dir\u001b[39m=\u001b[39m\u001b[39m'\u001b[39m\u001b[39m./m_logs\u001b[39m\u001b[39m'\u001b[39m)\n\u001b[1;32m----> 5\u001b[0m history \u001b[39m=\u001b[39m model_seq\u001b[39m.\u001b[39;49mfit(X_train, y_train, epochs\u001b[39m=\u001b[39;49m\u001b[39m30\u001b[39;49m,\n\u001b[0;32m      6\u001b[0m                     callbacks\u001b[39m=\u001b[39;49m[tensorboard_cb])\n",
      "File \u001b[1;32me:\\Anaconda\\lib\\site-packages\\keras\\utils\\traceback_utils.py:70\u001b[0m, in \u001b[0;36mfilter_traceback.<locals>.error_handler\u001b[1;34m(*args, **kwargs)\u001b[0m\n\u001b[0;32m     67\u001b[0m     filtered_tb \u001b[39m=\u001b[39m _process_traceback_frames(e\u001b[39m.\u001b[39m__traceback__)\n\u001b[0;32m     68\u001b[0m     \u001b[39m# To get the full stack trace, call:\u001b[39;00m\n\u001b[0;32m     69\u001b[0m     \u001b[39m# `tf.debugging.disable_traceback_filtering()`\u001b[39;00m\n\u001b[1;32m---> 70\u001b[0m     \u001b[39mraise\u001b[39;00m e\u001b[39m.\u001b[39mwith_traceback(filtered_tb) \u001b[39mfrom\u001b[39;00m \u001b[39mNone\u001b[39m\n\u001b[0;32m     71\u001b[0m \u001b[39mfinally\u001b[39;00m:\n\u001b[0;32m     72\u001b[0m     \u001b[39mdel\u001b[39;00m filtered_tb\n",
      "File \u001b[1;32me:\\Anaconda\\lib\\site-packages\\tensorflow\\python\\framework\\ops.py:7262\u001b[0m, in \u001b[0;36mraise_from_not_ok_status\u001b[1;34m(e, name)\u001b[0m\n\u001b[0;32m   7260\u001b[0m \u001b[39mdef\u001b[39;00m \u001b[39mraise_from_not_ok_status\u001b[39m(e, name):\n\u001b[0;32m   7261\u001b[0m   e\u001b[39m.\u001b[39mmessage \u001b[39m+\u001b[39m\u001b[39m=\u001b[39m (\u001b[39m\"\u001b[39m\u001b[39m name: \u001b[39m\u001b[39m\"\u001b[39m \u001b[39m+\u001b[39m name \u001b[39mif\u001b[39;00m name \u001b[39mis\u001b[39;00m \u001b[39mnot\u001b[39;00m \u001b[39mNone\u001b[39;00m \u001b[39melse\u001b[39;00m \u001b[39m\"\u001b[39m\u001b[39m\"\u001b[39m)\n\u001b[1;32m-> 7262\u001b[0m   \u001b[39mraise\u001b[39;00m core\u001b[39m.\u001b[39m_status_to_exception(e) \u001b[39mfrom\u001b[39;00m \u001b[39mNone\u001b[39m\n",
      "\u001b[1;31mFailedPreconditionError\u001b[0m: {{function_node __wrapped__CreateSummaryFileWriter_device_/job:localhost/replica:0/task:0/device:CPU:0}} . is not a directory [Op:CreateSummaryFileWriter]"
     ]
    }
   ],
   "source": [
    "# Keras 提供了一个TensorBoard()调回：\n",
    "[...] # 搭建编译模型\n",
    "tensorboard_cb = keras.callbacks.TensorBoard(log_dir='./m_logs')\n",
    "\n",
    "history = model_seq.fit(X_train, y_train, epochs=30,\n",
    "                    callbacks=[tensorboard_cb]) "
   ]
  },
  {
   "cell_type": "code",
   "execution_count": null,
   "id": "413ffb88",
   "metadata": {},
   "outputs": [],
   "source": [
    "%tensorboard --logdir new_logs"
   ]
  },
  {
   "cell_type": "code",
   "execution_count": null,
   "id": "48d06e1e",
   "metadata": {},
   "outputs": [],
   "source": [
    "%tensorboard --logdir=./n_logs --port=6006 "
   ]
  },
  {
   "attachments": {},
   "cell_type": "markdown",
   "id": "76ea161e",
   "metadata": {},
   "source": [
    "### 5-微调神经网络的超参数\n",
    "神经网络的灵活性同时也是它的缺点：要微调的超参数太多了。不仅架构可能不同，就算对于一个简单的 MLP，就可以调节层数、每层的神经元数、每层使用什么激活函数、初始化的权重，等等。怎么才能知道哪个超参数的组合才是最佳的呢？\n",
    "\n",
    "5-1<br>\n",
    "一种方法是直接试验超参数的组合，看哪一个在验证集（或使用 K 折交叉验证）的表现最好。例如，可以使用GridSearchCV或RandomizedSearchCV探索超参数空间，就像第 2 章中那样。要这么做的话，必须将 Keras 模型包装进模仿 Scikit-Learn 回归器的对象中。"
   ]
  },
  {
   "cell_type": "code",
   "execution_count": 109,
   "id": "c1ff32e9",
   "metadata": {},
   "outputs": [
    {
     "name": "stderr",
     "output_type": "stream",
     "text": [
      "C:\\Users\\86182\\AppData\\Local\\Temp\\ipykernel_17840\\1408917596.py:14: DeprecationWarning: KerasRegressor is deprecated, use Sci-Keras (https://github.com/adriangb/scikeras) instead. See https://www.adriangb.com/scikeras/stable/migration.html for help migrating.\n",
      "  keras_reg = keras.wrappers.scikit_learn.KerasRegressor(build_model)\n"
     ]
    }
   ],
   "source": [
    "# 第一步是给定一组超参数，创建一个搭建和编译 Keras 模型的函数：\n",
    "\n",
    "# 这个函数创建了一个单回归（只有一个输出神经元）顺序模型，数据形状、隐藏层的层数和神经元数是给定的，使用指定学习率的SGD优化器编译。\n",
    "# 最好尽量给大多数超参数都设置合理的默认值，就像 Scikit-Learn 那样。\n",
    "def build_model(n_hidden=2, n_neurons=30, learning_rate=0.01, input_shape=[10]):\n",
    "    model = keras.models.Sequential()\n",
    "    model.add(keras.layers.InputLayer(input_shape=input_shape))\n",
    "    for layer in range(n_hidden):\n",
    "        model.add(keras.layers.Dense(n_neurons, activation=\"relu\"))\n",
    "    model.add(keras.layers.Dense(1))\n",
    "    optimizer = keras.optimizers.SGD(learning_rate=learning_rate)\n",
    "    model.compile(loss=\"huber\", optimizer=optimizer)\n",
    "    return model \n",
    "\n",
    "# 然后使用函数build_model()创建一个KerasRegressor：\n",
    "\n",
    "keras_reg = keras.wrappers.scikit_learn.KerasRegressor(build_model) "
   ]
  },
  {
   "attachments": {},
   "cell_type": "markdown",
   "id": "ffdc17be",
   "metadata": {},
   "source": [
    "KerasRegressor是通过build_model()将 Keras 模型包装起来的。因为在创建时没有指定任何超参数，使用的是build_model()的默认参数。<br>\n",
    "现在就可以像常规的 Scikit-Learn 回归器一样来使用它了：使用fit()方法训练，使用score()方法评估，使用predict()方法预测，见下面代码："
   ]
  },
  {
   "cell_type": "code",
   "execution_count": null,
   "id": "f5b02b2d",
   "metadata": {},
   "outputs": [],
   "source": [
    "keras_reg.fit(X_train, y_train, epochs=100,\n",
    "              validation_data=(X_valid, y_valid),\n",
    "              callbacks=[keras.callbacks.EarlyStopping(patience=10)])"
   ]
  },
  {
   "cell_type": "code",
   "execution_count": 114,
   "id": "23134711",
   "metadata": {},
   "outputs": [
    {
     "name": "stdout",
     "output_type": "stream",
     "text": [
      "4/4 [==============================] - 0s 4ms/step - loss: 46.8334\n",
      "1/1 [==============================] - 0s 26ms/step\n"
     ]
    },
    {
     "data": {
      "text/plain": [
       "(array([111.93998, 212.07639,  81.58882, 184.61082, 214.46767, 113.76679],\n",
       "       dtype=float32),\n",
       " array([ 85., 296.,  89., 288., 180., 162.]))"
      ]
     },
     "execution_count": 114,
     "metadata": {},
     "output_type": "execute_result"
    }
   ],
   "source": [
    "mse_test = keras_reg.score(X_test, y_test)\n",
    "\n",
    "y_pred = keras_reg.predict(X_new) \n",
    "y_pred,y_test[:6]"
   ]
  },
  {
   "attachments": {},
   "cell_type": "markdown",
   "id": "6e1f0612",
   "metadata": {},
   "source": [
    "任何传给fit()的参数都会传给底层的 Keras 模型。另外，分数的意义和 MSE 是相反的（即，分数越高越好）。因为超参数太多，最好使用随机搜索而不是网格搜索（见第 2 章的解释）。下面来探索下隐藏层的层数、神经元数和学习率："
   ]
  },
  {
   "cell_type": "code",
   "execution_count": null,
   "id": "be7f60a6",
   "metadata": {},
   "outputs": [],
   "source": [
    "from scipy.stats import reciprocal\n",
    "from sklearn.model_selection import RandomizedSearchCV\n",
    "import numpy as np\n",
    "\n",
    "param_distribs = {\n",
    "    \"n_hidden\": [0, 1, 2, 3],\n",
    "    \"n_neurons\": np.arange(1, 100),\n",
    "    \"learning_rate\": reciprocal(0.001, 0.1),\n",
    "}\n",
    "\n",
    "# 注意，RandomizedSearchCV使用的是 K 折交叉验证，没有用X_valid和y_valid（只有早停时才使用）。\n",
    "rnd_search_cv = RandomizedSearchCV(keras_reg, param_distribs, n_iter=10, cv=3)\n",
    "rnd_search_cv.fit(X_train, y_train, epochs=100,\n",
    "                  validation_data=(X_valid, y_valid),\n",
    "                  callbacks=[keras.callbacks.EarlyStopping(patience=10)]) \n"
   ]
  },
  {
   "cell_type": "code",
   "execution_count": 118,
   "id": "a7396024",
   "metadata": {},
   "outputs": [
    {
     "data": {
      "text/plain": [
       "({'learning_rate': 0.01609827941809288, 'n_hidden': 2, 'n_neurons': 51},\n",
       " -46.3124148050944)"
      ]
     },
     "execution_count": 118,
     "metadata": {},
     "output_type": "execute_result"
    }
   ],
   "source": [
    "# 计算完毕后，就能得到最佳参数、最佳得分和训练好的 Keras 模型，如下所示：\n",
    "rnd_search_cv.best_params_ , rnd_search_cv.best_score_\n",
    "model = rnd_search_cv.best_estimator_.model "
   ]
  },
  {
   "attachments": {},
   "cell_type": "markdown",
   "id": "dd6decb3",
   "metadata": {},
   "source": [
    "现在就可以保存模型、在测试集上评估，如果对效果满意，就可以部署了。使用随机搜索并不难，适用于许多相对简单的问题。但是当训练较慢时（大数据集的复杂问题），这个方法就只能探索超参数空间的一小部分而已。通过手动调节可以缓解一下：首先使用大范围的超参数值先做一次随机搜索，然后根据第一次的结果再做一次小范围的计算，以此类推。这样就能缩放到最优超参数的范围了。但是，这么做很耗时。\n",
    "\n",
    "5-2<br>\n",
    "幸好，有比随机搜索更好的探索超参数空间的方法。核心思想很简单：当某块空间的区域表现好时，就多探索这块区域。这些方法可以代替用户做“放大”工作，可以在更短的时间得到更好的结果。下面是一些可以用来优化超参数的 Python 库：\n",
    "\n",
    "Hyperopt 一个可以优化各种复杂搜索空间（包括真实值，比如学习率和离散值，比如层数）的库。\n",
    "\n",
    "Hyperas，kopt 或 Talos 用来优化 Keras 模型超参数的库（前两个是基于 Hyperopt 的）。\n",
    "\n",
    "Keras Tuner Google 开发的简单易用的 Keras 超参数优化库，还有可视化和分析功能。\n",
    "\n",
    "Scikit-Optimize (skopt) 一个通用的优化库。类BayesSearchCV使用类似于GridSearchCV的接口做贝叶斯优化。\n",
    "\n",
    "Spearmint 一个贝叶斯优化库。\n",
    "\n",
    "Hyperband 一个快速超参数调节库，基于 Lisha Li 的论文《Hyperband: A Novel Bandit-Based Approach to Hyperparameter Optimization》。\n",
    "\n",
    "Sklearn-Deap 一个基于进化算法的超参数优化库，接口类似GridSearchCV。\n",
    "\n",
    "另外，许多公司也提供超参数优化服务。第 19 章会讨论 Google Cloud AI 平台的超参数调节服务。其它公司有 Arimo 、 SigOpt，和 CallDesk 的 Oscar."
   ]
  },
  {
   "attachments": {},
   "cell_type": "markdown",
   "id": "1dbeb81b",
   "metadata": {},
   "source": [
    "进化算法——超参数调节仍然是活跃的研究领域，其中进化算法表现很突出。例如，在 2017 年的论文《Population Based Training of Neural Networks》中，Deepmind 的作者用统一优化了一组模型及其超参数。Google 也使用了一种进化算法，不仅用来搜索查参数，还可以搜索最佳的神经网络架构；Google 的 AutoML 套间已经可以在云服务上使用了。也许手动搭建神经网络的日子就要结束了？看看 Google 的这篇文章。事实上，用进化算法训练独立的神经网络很成功，已经取代梯度下降了。例如，Uber 在 2017 年介绍了名为 Deep Neuroevolution 的技术，见这里。\n",
    "\n",
    "尽管有这些工具和服务，知道每个超参数该取什么值仍然是帮助的，可以快速创建原型和收缩搜索范围。后面的文字介绍了选择 MLP 隐藏层数和神经元数的原则，以及如何选择主要的超参数值。"
   ]
  },
  {
   "cell_type": "code",
   "execution_count": null,
   "id": "991da07c",
   "metadata": {},
   "outputs": [],
   "source": []
  },
  {
   "attachments": {},
   "cell_type": "markdown",
   "id": "c61f2513",
   "metadata": {},
   "source": [
    "#### 隐藏层数\n",
    "对于许多问题，开始时只用一个隐藏层就能得到不错的结果。只要有足够多的神经元，只有一个隐藏层的 MLP 就可以对复杂函数建模。但是对于复杂问题，深层网络比浅层网络有更高的参数效率：深层网络可以用指数级别更少的神经元对复杂函数建模，因此对于同样的训练数据量性能更好。\n",
    "\n",
    "真实世界的数据通常都是有层次化结构的，深层神经网络正式利用了这一点——比如，假设别人让你用绘图软件画一片森林，但你不能复制和粘贴。这样的话，就得花很长时间，你需要手动来画每一棵树，一个树枝然后一个树枝，一片叶子然后一片叶子。如果可以鲜花一片叶子，然后将叶子复制粘贴到整个树枝上，再将树枝复制粘贴到整棵树上，然后再复制树，就可以画出一片森林了，所用的时间可以大大缩短。真实世界的数据通常都是有层次化结构的，深层神经网络正式利用了这一点：浅隐藏层对低级结构（比如各种形状的线段和方向），中隐藏层结合这些低级结构对中级结构（方，圆）建模，深隐藏层和输出层结合中级结构对高级结构（比如，脸）建模。\n",
    "\n",
    "迁移学习——层级化的结构不仅帮助深度神经网络收敛更快，也提高了对新数据集的泛化能力。例如，如果已经训练好了一个图片人脸识别的模型，现在想训练一个识别发型的神经网络，你就可以复用第一个网络的浅层。不用随机初始化前几层的权重和偏置项，而是初始化为第一个网络浅层的权重和偏置项。这样，网络就不用从多数图片的低级结构开始学起；只要学高级结构（发型）就行了。这就称为迁移学习。\n",
    "\n",
    "概括来讲，对于许多问题，神经网络只有一或两层就够了。例如，只用一个隐藏层和几百个神经元，就能在 MNIST 上轻松达到 97% 的准确率；同样的神经元数，两个隐藏层，训练时间几乎相同，就能达到 98% 的准确率。对于更复杂的问题，可以增加隐藏层的数量，直到在训练集上过拟合为止。非常复杂的任务，比如大图片分类或语音识别，神经网络通常需要几十层（甚至上百，但不是全连接的，见第 14 章），需要的训练数据量很大。对于这样的网络，很少是从零训练的：常见的是使用预训练好的、表现出众的任务相近的网络，训练可以快得多，需要的数据也可以不那么多（见第 11 章的讨论）。"
   ]
  },
  {
   "attachments": {},
   "cell_type": "markdown",
   "id": "e5d74267",
   "metadata": {},
   "source": [
    "#### 每个隐藏层的神经元数\n",
    "输入层和输出层的神经元数是由任务确定的输入和输出类型决定的。例如，MNIST 任务需要28 × 28 = 784个输入神经元和 10 个输出神经元。\n",
    "\n",
    "所有隐藏层使用同样多的神经元——对于隐藏层，惯用的方法是模拟金字塔的形状，神经元数逐层递减。底层思想是，许多低级特征可以聚合成少得多的高级特征。MNIST 的典型神经网络可能需要 3 个隐藏层，第一层有 300 个神经元，第二层有 200 个神经元，第三层有 100 个神经元。然而，这种方法已经被抛弃了，因为所有隐藏层使用同样多的神经元不仅表现更好，要调节的超参数也只变成了一个，而不是每层都有一个。或者，取决于数据集的情况，有时可以让第一个隐藏层比其它层更大。\n",
    "\n",
    "使用层数和神经元数都超量的模型，然后使用早停和其它正则技术防止过拟合——和层数相同，可以逐步提高神经元的数量，知道发生过拟合为止。但在实际中，通常的简便而高效的方法是使用层数和神经元数都超量的模型，然后使用早停和其它正则技术防止过拟合。一位 Google 的科学家 Vincent Vanhoucke，称这种方法为“弹力裤”：不浪费时间选择尺寸完美匹配的裤子，而是选择一条大的弹力裤，它能自动收缩到合适的尺寸。通过这种方法，可以避免影响模型的瓶颈层。另一方面，如果某层的神经元太少，就没有足够强的表征能力，保存所有的输入信息（比如，只有两个神经元的的层只能输出 2D 数据，如果用它处理 3D 数据，就会丢失信息）。无论模型网络的其它部分如何强大，丢失的信息也找不回来了。\n",
    "\n",
    "提示：通常，增加层数比增加每层的神经元的收益更高。"
   ]
  },
  {
   "attachments": {},
   "cell_type": "markdown",
   "id": "8657554b",
   "metadata": {},
   "source": [
    "#### 学习率，批次大小和其它超参数\n",
    "隐藏层的层数和神经元数不是 MLP 唯二要调节的参数。下面是一些其它的超参数和调节策略：\n",
    "\n",
    "学习率： 学习率可能是最重要的超参数。通常，最佳学习率是最大学习率（最大学习率是超过一定值，训练算法发生分叉的学习率，见第 4 章）的大概一半。找到最佳学习率的方式之一是从一个极小值开始（比如10^(-5)）训练模型几百次，直到学习率达到一个比较大的值（比如 10）。这是通过在每次迭代，将学习率乘以一个常数实现的（例如exp(log(10^6)/500，通过 500 次迭代，从10^(-5)到 10 ）。如果将损失作为学习率的函数画出来（学习率使用 log），能看到损失一开始是下降的。过了一段时间，学习率会变得非常高，损失就会升高：最佳学习率要比损失开始升高的点低一点（通常比拐点低 10 倍）。然后就可以重新初始化模型，用这个学习率开始训练了。第 11 章会介绍更多的学习率优化方法。（最佳学习率还取决于其它超参数，特别是批次大小，所以如果调节了任意超参数，最好也更新学习率。）\n",
    "\n",
    "优化器： 选择一个更好的优化器（并调节超参数）而不是传统的小批量梯度下降优化器同样重要。第 11 章会介绍更先进的优化器。\n",
    "\n",
    "批次大小： 批次大小对模型的表现和训练时间非常重要。使用大批次的好处是硬件（比如 GPU）可以快速处理（见第 19 章），每秒可以处理更多实例。因此，许多人建议批次大小开到 GPU 内存的最大值。但也有缺点：在实际中，大批次，会导致训练不稳定，特别是在训练开始时，并且不如小批次模型的泛化能力好。2018 年四月，Yann LeCun 甚至发了一条推特：“朋友之间不会让对方的批次大小超过 32”，引用的是 Dominic Masters 和 Carlo Luschi 的论文《Revisiting Small Batch Training for Deep Neural Networks》，在这篇论文中，作者的结论是小批次（2 到 32）更可取，因为小批次可以在更短的训练时间得到更好的模型。但是，有的论文的结论截然相反：2017 年，两篇论文《Train longer, generalize better: closing the generalization gap in large batch training of neural networks》和《Accurate, Large Minibatch SGD: Training ImageNet in 1 Hour》建议，通过多种方法，比如给学习率热身（即学习率一开始很小，然后逐渐提高，见第 11 章），就能使用大批次（最大 8192）。这样，训练时间就能非常短，也没有泛化鸿沟。因此，一种策略是通过学习率热身使用大批次，如果训练不稳定或效果不好，就换成小批次。\n",
    "\n",
    "激活函数： 本章一开始讨论过如何选择激活函数：通常来讲，ReLU 适用于所有隐藏层。对于输出层，就要取决于任务。"
   ]
  }
 ],
 "metadata": {
  "kernelspec": {
   "display_name": "Python 3 (ipykernel)",
   "language": "python",
   "name": "python3"
  },
  "language_info": {
   "codemirror_mode": {
    "name": "ipython",
    "version": 3
   },
   "file_extension": ".py",
   "mimetype": "text/x-python",
   "name": "python",
   "nbconvert_exporter": "python",
   "pygments_lexer": "ipython3",
   "version": "3.8.5"
  },
  "vscode": {
   "interpreter": {
    "hash": "91bb753b057673435fb8d6f6a083e6c818364728098c7ae050ca3a25357dd754"
   }
  }
 },
 "nbformat": 4,
 "nbformat_minor": 5
}
